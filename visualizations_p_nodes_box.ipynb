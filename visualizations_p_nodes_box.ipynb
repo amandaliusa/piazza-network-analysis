{
 "cells": [
  {
   "cell_type": "markdown",
   "metadata": {},
   "source": [
    "# Visualizations of P-Nodes\n",
    "Includes boxplots."
   ]
  },
  {
   "cell_type": "code",
   "execution_count": 2,
   "metadata": {},
   "outputs": [],
   "source": [
    "import pandas as pd\n",
    "import numpy as np\n",
    "import matplotlib.pyplot as plt"
   ]
  },
  {
   "cell_type": "markdown",
   "metadata": {},
   "source": [
    "Load in the data:"
   ]
  },
  {
   "cell_type": "code",
   "execution_count": 4,
   "metadata": {},
   "outputs": [],
   "source": [
    "data_path = 'data/acm95a100a2018_anonymized.xlsx'\n",
    "df = pd.read_excel(data_path)\n",
    "df = df.apply(pd.to_numeric, errors='ignore')"
   ]
  },
  {
   "cell_type": "code",
   "execution_count": 6,
   "metadata": {},
   "outputs": [
    {
     "data": {
      "text/html": [
       "<div>\n",
       "<style scoped>\n",
       "    .dataframe tbody tr th:only-of-type {\n",
       "        vertical-align: middle;\n",
       "    }\n",
       "\n",
       "    .dataframe tbody tr th {\n",
       "        vertical-align: top;\n",
       "    }\n",
       "\n",
       "    .dataframe thead th {\n",
       "        text-align: right;\n",
       "    }\n",
       "</style>\n",
       "<table border=\"1\" class=\"dataframe\">\n",
       "  <thead>\n",
       "    <tr style=\"text-align: right;\">\n",
       "      <th></th>\n",
       "      <th>ID</th>\n",
       "      <th>Role</th>\n",
       "      <th>Class</th>\n",
       "      <th>Option</th>\n",
       "      <th>Section</th>\n",
       "      <th>DaysOnline</th>\n",
       "      <th>Views</th>\n",
       "      <th>Contributions</th>\n",
       "      <th>Questions</th>\n",
       "      <th>Notes</th>\n",
       "      <th>Answers</th>\n",
       "      <th>N-Score</th>\n",
       "      <th>Grade</th>\n",
       "    </tr>\n",
       "  </thead>\n",
       "  <tbody>\n",
       "    <tr>\n",
       "      <th>0</th>\n",
       "      <td>P1</td>\n",
       "      <td>Student</td>\n",
       "      <td>U2</td>\n",
       "      <td>ME</td>\n",
       "      <td>5.0</td>\n",
       "      <td>48</td>\n",
       "      <td>60</td>\n",
       "      <td>0</td>\n",
       "      <td>0</td>\n",
       "      <td>0</td>\n",
       "      <td>0</td>\n",
       "      <td>0.531170</td>\n",
       "      <td>B+</td>\n",
       "    </tr>\n",
       "    <tr>\n",
       "      <th>1</th>\n",
       "      <td>P2</td>\n",
       "      <td>Student</td>\n",
       "      <td>U2</td>\n",
       "      <td>ACM</td>\n",
       "      <td>5.0</td>\n",
       "      <td>150</td>\n",
       "      <td>219</td>\n",
       "      <td>14</td>\n",
       "      <td>0</td>\n",
       "      <td>0</td>\n",
       "      <td>13</td>\n",
       "      <td>0.918357</td>\n",
       "      <td>A+</td>\n",
       "    </tr>\n",
       "    <tr>\n",
       "      <th>2</th>\n",
       "      <td>P3</td>\n",
       "      <td>Student</td>\n",
       "      <td>U2</td>\n",
       "      <td>ACM</td>\n",
       "      <td>7.0</td>\n",
       "      <td>245</td>\n",
       "      <td>215</td>\n",
       "      <td>9</td>\n",
       "      <td>1</td>\n",
       "      <td>0</td>\n",
       "      <td>4</td>\n",
       "      <td>0.864791</td>\n",
       "      <td>A+</td>\n",
       "    </tr>\n",
       "    <tr>\n",
       "      <th>3</th>\n",
       "      <td>P4</td>\n",
       "      <td>Student</td>\n",
       "      <td>U3</td>\n",
       "      <td>CS</td>\n",
       "      <td>1.0</td>\n",
       "      <td>107</td>\n",
       "      <td>215</td>\n",
       "      <td>3</td>\n",
       "      <td>0</td>\n",
       "      <td>0</td>\n",
       "      <td>2</td>\n",
       "      <td>0.928847</td>\n",
       "      <td>A+</td>\n",
       "    </tr>\n",
       "    <tr>\n",
       "      <th>4</th>\n",
       "      <td>P5</td>\n",
       "      <td>Student</td>\n",
       "      <td>U2</td>\n",
       "      <td>ME</td>\n",
       "      <td>3.0</td>\n",
       "      <td>53</td>\n",
       "      <td>216</td>\n",
       "      <td>38</td>\n",
       "      <td>10</td>\n",
       "      <td>0</td>\n",
       "      <td>15</td>\n",
       "      <td>0.944688</td>\n",
       "      <td>A+</td>\n",
       "    </tr>\n",
       "    <tr>\n",
       "      <th>...</th>\n",
       "      <td>...</td>\n",
       "      <td>...</td>\n",
       "      <td>...</td>\n",
       "      <td>...</td>\n",
       "      <td>...</td>\n",
       "      <td>...</td>\n",
       "      <td>...</td>\n",
       "      <td>...</td>\n",
       "      <td>...</td>\n",
       "      <td>...</td>\n",
       "      <td>...</td>\n",
       "      <td>...</td>\n",
       "      <td>...</td>\n",
       "    </tr>\n",
       "    <tr>\n",
       "      <th>191</th>\n",
       "      <td>P192</td>\n",
       "      <td>TA</td>\n",
       "      <td>NaN</td>\n",
       "      <td>NaN</td>\n",
       "      <td>8.0</td>\n",
       "      <td>59</td>\n",
       "      <td>88</td>\n",
       "      <td>1</td>\n",
       "      <td>0</td>\n",
       "      <td>0</td>\n",
       "      <td>0</td>\n",
       "      <td>NaN</td>\n",
       "      <td>NaN</td>\n",
       "    </tr>\n",
       "    <tr>\n",
       "      <th>192</th>\n",
       "      <td>P193</td>\n",
       "      <td>TA</td>\n",
       "      <td>NaN</td>\n",
       "      <td>NaN</td>\n",
       "      <td>9.0</td>\n",
       "      <td>78</td>\n",
       "      <td>34</td>\n",
       "      <td>0</td>\n",
       "      <td>0</td>\n",
       "      <td>0</td>\n",
       "      <td>0</td>\n",
       "      <td>NaN</td>\n",
       "      <td>NaN</td>\n",
       "    </tr>\n",
       "    <tr>\n",
       "      <th>193</th>\n",
       "      <td>P194</td>\n",
       "      <td>TA</td>\n",
       "      <td>NaN</td>\n",
       "      <td>NaN</td>\n",
       "      <td>10.0</td>\n",
       "      <td>36</td>\n",
       "      <td>53</td>\n",
       "      <td>3</td>\n",
       "      <td>0</td>\n",
       "      <td>2</td>\n",
       "      <td>1</td>\n",
       "      <td>NaN</td>\n",
       "      <td>NaN</td>\n",
       "    </tr>\n",
       "    <tr>\n",
       "      <th>194</th>\n",
       "      <td>P195</td>\n",
       "      <td>Head TA</td>\n",
       "      <td>NaN</td>\n",
       "      <td>NaN</td>\n",
       "      <td>NaN</td>\n",
       "      <td>74</td>\n",
       "      <td>237</td>\n",
       "      <td>228</td>\n",
       "      <td>0</td>\n",
       "      <td>7</td>\n",
       "      <td>153</td>\n",
       "      <td>NaN</td>\n",
       "      <td>NaN</td>\n",
       "    </tr>\n",
       "    <tr>\n",
       "      <th>195</th>\n",
       "      <td>P196</td>\n",
       "      <td>Instructor</td>\n",
       "      <td>NaN</td>\n",
       "      <td>NaN</td>\n",
       "      <td>NaN</td>\n",
       "      <td>219</td>\n",
       "      <td>234</td>\n",
       "      <td>114</td>\n",
       "      <td>0</td>\n",
       "      <td>57</td>\n",
       "      <td>37</td>\n",
       "      <td>NaN</td>\n",
       "      <td>NaN</td>\n",
       "    </tr>\n",
       "  </tbody>\n",
       "</table>\n",
       "<p>196 rows × 13 columns</p>\n",
       "</div>"
      ],
      "text/plain": [
       "       ID        Role Class Option  Section  DaysOnline  Views  Contributions  \\\n",
       "0      P1     Student    U2     ME      5.0          48     60              0   \n",
       "1      P2     Student    U2    ACM      5.0         150    219             14   \n",
       "2      P3     Student    U2    ACM      7.0         245    215              9   \n",
       "3      P4     Student    U3     CS      1.0         107    215              3   \n",
       "4      P5     Student    U2     ME      3.0          53    216             38   \n",
       "..    ...         ...   ...    ...      ...         ...    ...            ...   \n",
       "191  P192          TA   NaN    NaN      8.0          59     88              1   \n",
       "192  P193          TA   NaN    NaN      9.0          78     34              0   \n",
       "193  P194          TA   NaN    NaN     10.0          36     53              3   \n",
       "194  P195     Head TA   NaN    NaN      NaN          74    237            228   \n",
       "195  P196  Instructor   NaN    NaN      NaN         219    234            114   \n",
       "\n",
       "     Questions  Notes  Answers   N-Score Grade  \n",
       "0            0      0        0  0.531170    B+  \n",
       "1            0      0       13  0.918357    A+  \n",
       "2            1      0        4  0.864791    A+  \n",
       "3            0      0        2  0.928847    A+  \n",
       "4           10      0       15  0.944688    A+  \n",
       "..         ...    ...      ...       ...   ...  \n",
       "191          0      0        0       NaN   NaN  \n",
       "192          0      0        0       NaN   NaN  \n",
       "193          0      2        1       NaN   NaN  \n",
       "194          0      7      153       NaN   NaN  \n",
       "195          0     57       37       NaN   NaN  \n",
       "\n",
       "[196 rows x 13 columns]"
      ]
     },
     "execution_count": 6,
     "metadata": {},
     "output_type": "execute_result"
    }
   ],
   "source": [
    "df"
   ]
  },
  {
   "cell_type": "markdown",
   "metadata": {},
   "source": [
    "We first create a column to group options into fewer categories based on a dictionary which maps each option into its academic division:"
   ]
  },
  {
   "cell_type": "code",
   "execution_count": 35,
   "metadata": {},
   "outputs": [],
   "source": [
    "Nstudent = 184\n",
    "option_dict = {'ACM': 'CMS', 'AM': 'MCE', 'APh': 'APMS', 'Ae':'EAS', 'Aph':'APMS', 'BE':'BBE', 'BMB':'CCE', 'Bi':'BBE', 'CS':'CMS', 'Ch':'CCE', 'ChE': 'CCE', 'ChE (BM)':'CCE', 'ChE (Env)':'CCE', 'ChE (MS)':'CCE', 'ChE (PS)': 'CCE', 'EE':'EE', 'Eng': 'Hum', 'Eng (CNS)': 'Hum', 'Ge': 'GPS', 'ME':'MCE', 'MS':'APMS', 'MedE': 'MedE', 'Ph': 'PMA', 'PlSc':'Hum', 'SE':'EAS', 'AsPh':'PMA'}\n",
    "\n",
    "\n",
    "Option = df['Option']\n",
    "divisions = np.array([option_dict[i] for i in Option[0:Nstudent]])"
   ]
  },
  {
   "cell_type": "markdown",
   "metadata": {},
   "source": [
    "We'll also create a column for students' grades, omitting $\\pm$ grades:"
   ]
  },
  {
   "cell_type": "code",
   "execution_count": 37,
   "metadata": {},
   "outputs": [],
   "source": [
    "Grade = df['Grade']\n",
    "\n",
    "letter_grades = [grade[0] for grade in Grade[0:Nstudent]] "
   ]
  },
  {
   "cell_type": "markdown",
   "metadata": {},
   "source": [
    "Now, we construct a dataframe that omits TAs and instructor and includes the columns we constructed above:"
   ]
  },
  {
   "cell_type": "code",
   "execution_count": 38,
   "metadata": {},
   "outputs": [
    {
     "name": "stderr",
     "output_type": "stream",
     "text": [
      "<ipython-input-38-bf0674e73c56>:2: SettingWithCopyWarning: \n",
      "A value is trying to be set on a copy of a slice from a DataFrame.\n",
      "Try using .loc[row_indexer,col_indexer] = value instead\n",
      "\n",
      "See the caveats in the documentation: https://pandas.pydata.org/pandas-docs/stable/user_guide/indexing.html#returning-a-view-versus-a-copy\n",
      "  df_student['Division'] = pd.Series(divisions)\n",
      "<ipython-input-38-bf0674e73c56>:3: SettingWithCopyWarning: \n",
      "A value is trying to be set on a copy of a slice from a DataFrame.\n",
      "Try using .loc[row_indexer,col_indexer] = value instead\n",
      "\n",
      "See the caveats in the documentation: https://pandas.pydata.org/pandas-docs/stable/user_guide/indexing.html#returning-a-view-versus-a-copy\n",
      "  df_student['Letter Grade'] = pd.Series(letter_grades)\n"
     ]
    }
   ],
   "source": [
    "df_student = df.iloc[0:Nstudent]\n",
    "df_student['Division'] = pd.Series(divisions)\n",
    "df_student['Letter Grade'] = pd.Series(letter_grades)"
   ]
  },
  {
   "cell_type": "code",
   "execution_count": 39,
   "metadata": {},
   "outputs": [
    {
     "data": {
      "text/html": [
       "<div>\n",
       "<style scoped>\n",
       "    .dataframe tbody tr th:only-of-type {\n",
       "        vertical-align: middle;\n",
       "    }\n",
       "\n",
       "    .dataframe tbody tr th {\n",
       "        vertical-align: top;\n",
       "    }\n",
       "\n",
       "    .dataframe thead th {\n",
       "        text-align: right;\n",
       "    }\n",
       "</style>\n",
       "<table border=\"1\" class=\"dataframe\">\n",
       "  <thead>\n",
       "    <tr style=\"text-align: right;\">\n",
       "      <th></th>\n",
       "      <th>ID</th>\n",
       "      <th>Role</th>\n",
       "      <th>Class</th>\n",
       "      <th>Option</th>\n",
       "      <th>Section</th>\n",
       "      <th>DaysOnline</th>\n",
       "      <th>Views</th>\n",
       "      <th>Contributions</th>\n",
       "      <th>Questions</th>\n",
       "      <th>Notes</th>\n",
       "      <th>Answers</th>\n",
       "      <th>N-Score</th>\n",
       "      <th>Grade</th>\n",
       "      <th>Division</th>\n",
       "      <th>Letter Grade</th>\n",
       "    </tr>\n",
       "  </thead>\n",
       "  <tbody>\n",
       "    <tr>\n",
       "      <th>0</th>\n",
       "      <td>P1</td>\n",
       "      <td>Student</td>\n",
       "      <td>U2</td>\n",
       "      <td>ME</td>\n",
       "      <td>5.0</td>\n",
       "      <td>48</td>\n",
       "      <td>60</td>\n",
       "      <td>0</td>\n",
       "      <td>0</td>\n",
       "      <td>0</td>\n",
       "      <td>0</td>\n",
       "      <td>0.531170</td>\n",
       "      <td>B+</td>\n",
       "      <td>MCE</td>\n",
       "      <td>B</td>\n",
       "    </tr>\n",
       "    <tr>\n",
       "      <th>1</th>\n",
       "      <td>P2</td>\n",
       "      <td>Student</td>\n",
       "      <td>U2</td>\n",
       "      <td>ACM</td>\n",
       "      <td>5.0</td>\n",
       "      <td>150</td>\n",
       "      <td>219</td>\n",
       "      <td>14</td>\n",
       "      <td>0</td>\n",
       "      <td>0</td>\n",
       "      <td>13</td>\n",
       "      <td>0.918357</td>\n",
       "      <td>A+</td>\n",
       "      <td>CMS</td>\n",
       "      <td>A</td>\n",
       "    </tr>\n",
       "    <tr>\n",
       "      <th>2</th>\n",
       "      <td>P3</td>\n",
       "      <td>Student</td>\n",
       "      <td>U2</td>\n",
       "      <td>ACM</td>\n",
       "      <td>7.0</td>\n",
       "      <td>245</td>\n",
       "      <td>215</td>\n",
       "      <td>9</td>\n",
       "      <td>1</td>\n",
       "      <td>0</td>\n",
       "      <td>4</td>\n",
       "      <td>0.864791</td>\n",
       "      <td>A+</td>\n",
       "      <td>CMS</td>\n",
       "      <td>A</td>\n",
       "    </tr>\n",
       "    <tr>\n",
       "      <th>3</th>\n",
       "      <td>P4</td>\n",
       "      <td>Student</td>\n",
       "      <td>U3</td>\n",
       "      <td>CS</td>\n",
       "      <td>1.0</td>\n",
       "      <td>107</td>\n",
       "      <td>215</td>\n",
       "      <td>3</td>\n",
       "      <td>0</td>\n",
       "      <td>0</td>\n",
       "      <td>2</td>\n",
       "      <td>0.928847</td>\n",
       "      <td>A+</td>\n",
       "      <td>CMS</td>\n",
       "      <td>A</td>\n",
       "    </tr>\n",
       "    <tr>\n",
       "      <th>4</th>\n",
       "      <td>P5</td>\n",
       "      <td>Student</td>\n",
       "      <td>U2</td>\n",
       "      <td>ME</td>\n",
       "      <td>3.0</td>\n",
       "      <td>53</td>\n",
       "      <td>216</td>\n",
       "      <td>38</td>\n",
       "      <td>10</td>\n",
       "      <td>0</td>\n",
       "      <td>15</td>\n",
       "      <td>0.944688</td>\n",
       "      <td>A+</td>\n",
       "      <td>MCE</td>\n",
       "      <td>A</td>\n",
       "    </tr>\n",
       "    <tr>\n",
       "      <th>...</th>\n",
       "      <td>...</td>\n",
       "      <td>...</td>\n",
       "      <td>...</td>\n",
       "      <td>...</td>\n",
       "      <td>...</td>\n",
       "      <td>...</td>\n",
       "      <td>...</td>\n",
       "      <td>...</td>\n",
       "      <td>...</td>\n",
       "      <td>...</td>\n",
       "      <td>...</td>\n",
       "      <td>...</td>\n",
       "      <td>...</td>\n",
       "      <td>...</td>\n",
       "      <td>...</td>\n",
       "    </tr>\n",
       "    <tr>\n",
       "      <th>179</th>\n",
       "      <td>P180</td>\n",
       "      <td>Student</td>\n",
       "      <td>U2</td>\n",
       "      <td>ACM</td>\n",
       "      <td>2.0</td>\n",
       "      <td>176</td>\n",
       "      <td>111</td>\n",
       "      <td>5</td>\n",
       "      <td>2</td>\n",
       "      <td>0</td>\n",
       "      <td>3</td>\n",
       "      <td>0.917763</td>\n",
       "      <td>A+</td>\n",
       "      <td>CMS</td>\n",
       "      <td>A</td>\n",
       "    </tr>\n",
       "    <tr>\n",
       "      <th>180</th>\n",
       "      <td>P181</td>\n",
       "      <td>Student</td>\n",
       "      <td>G1</td>\n",
       "      <td>MedE</td>\n",
       "      <td>10.0</td>\n",
       "      <td>69</td>\n",
       "      <td>156</td>\n",
       "      <td>22</td>\n",
       "      <td>10</td>\n",
       "      <td>0</td>\n",
       "      <td>2</td>\n",
       "      <td>0.913733</td>\n",
       "      <td>A+</td>\n",
       "      <td>MedE</td>\n",
       "      <td>A</td>\n",
       "    </tr>\n",
       "    <tr>\n",
       "      <th>181</th>\n",
       "      <td>P182</td>\n",
       "      <td>Student</td>\n",
       "      <td>U3</td>\n",
       "      <td>CS</td>\n",
       "      <td>1.0</td>\n",
       "      <td>150</td>\n",
       "      <td>206</td>\n",
       "      <td>0</td>\n",
       "      <td>0</td>\n",
       "      <td>0</td>\n",
       "      <td>0</td>\n",
       "      <td>0.639748</td>\n",
       "      <td>A-</td>\n",
       "      <td>CMS</td>\n",
       "      <td>A</td>\n",
       "    </tr>\n",
       "    <tr>\n",
       "      <th>182</th>\n",
       "      <td>P183</td>\n",
       "      <td>Student</td>\n",
       "      <td>G1</td>\n",
       "      <td>MedE</td>\n",
       "      <td>7.0</td>\n",
       "      <td>94</td>\n",
       "      <td>113</td>\n",
       "      <td>0</td>\n",
       "      <td>0</td>\n",
       "      <td>0</td>\n",
       "      <td>0</td>\n",
       "      <td>0.778504</td>\n",
       "      <td>A</td>\n",
       "      <td>MedE</td>\n",
       "      <td>A</td>\n",
       "    </tr>\n",
       "    <tr>\n",
       "      <th>183</th>\n",
       "      <td>P184</td>\n",
       "      <td>Student</td>\n",
       "      <td>U3</td>\n",
       "      <td>EE</td>\n",
       "      <td>9.0</td>\n",
       "      <td>95</td>\n",
       "      <td>47</td>\n",
       "      <td>0</td>\n",
       "      <td>0</td>\n",
       "      <td>0</td>\n",
       "      <td>0</td>\n",
       "      <td>0.724592</td>\n",
       "      <td>A</td>\n",
       "      <td>EE</td>\n",
       "      <td>A</td>\n",
       "    </tr>\n",
       "  </tbody>\n",
       "</table>\n",
       "<p>184 rows × 15 columns</p>\n",
       "</div>"
      ],
      "text/plain": [
       "       ID     Role Class Option  Section  DaysOnline  Views  Contributions  \\\n",
       "0      P1  Student    U2     ME      5.0          48     60              0   \n",
       "1      P2  Student    U2    ACM      5.0         150    219             14   \n",
       "2      P3  Student    U2    ACM      7.0         245    215              9   \n",
       "3      P4  Student    U3     CS      1.0         107    215              3   \n",
       "4      P5  Student    U2     ME      3.0          53    216             38   \n",
       "..    ...      ...   ...    ...      ...         ...    ...            ...   \n",
       "179  P180  Student    U2    ACM      2.0         176    111              5   \n",
       "180  P181  Student    G1   MedE     10.0          69    156             22   \n",
       "181  P182  Student    U3     CS      1.0         150    206              0   \n",
       "182  P183  Student    G1   MedE      7.0          94    113              0   \n",
       "183  P184  Student    U3     EE      9.0          95     47              0   \n",
       "\n",
       "     Questions  Notes  Answers   N-Score Grade Division Letter Grade  \n",
       "0            0      0        0  0.531170    B+      MCE            B  \n",
       "1            0      0       13  0.918357    A+      CMS            A  \n",
       "2            1      0        4  0.864791    A+      CMS            A  \n",
       "3            0      0        2  0.928847    A+      CMS            A  \n",
       "4           10      0       15  0.944688    A+      MCE            A  \n",
       "..         ...    ...      ...       ...   ...      ...          ...  \n",
       "179          2      0        3  0.917763    A+      CMS            A  \n",
       "180         10      0        2  0.913733    A+     MedE            A  \n",
       "181          0      0        0  0.639748    A-      CMS            A  \n",
       "182          0      0        0  0.778504     A     MedE            A  \n",
       "183          0      0        0  0.724592     A       EE            A  \n",
       "\n",
       "[184 rows x 15 columns]"
      ]
     },
     "execution_count": 39,
     "metadata": {},
     "output_type": "execute_result"
    }
   ],
   "source": [
    "df_student"
   ]
  },
  {
   "cell_type": "markdown",
   "metadata": {},
   "source": [
    "We will now examine some plots based on the data that Piazza collects, starting with `DaysOnline`. We first compare the `DaysOnline` for undergrads vs graduate students:"
   ]
  },
  {
   "cell_type": "code",
   "execution_count": 40,
   "metadata": {},
   "outputs": [
    {
     "data": {
      "image/png": "[encoded data removed]",
      "text/plain": [
       "<Figure size 432x288 with 2 Axes>"
      ]
     },
     "metadata": {
      "needs_background": "light"
     },
     "output_type": "display_data"
    }
   ],
   "source": [
    "Undergrad = ['U2', 'U3', 'U4']\n",
    "Undergrad_df = df.loc[df['Class'].isin(Undergrad)]\n",
    "\n",
    "Grad = ['G1', 'G2', 'G5']\n",
    "Grad_df = df.loc[df['Class'].isin(Grad)]\n",
    "\n",
    "fig, axs = plt.subplots(1, 2)\n",
    "\n",
    "axs[0].boxplot(Undergrad_df['DaysOnline'])\n",
    "axs[0].set_title('Undergrad DaysOnline')\n",
    "bottom, top = axs[0].get_ylim()\n",
    "\n",
    "axs[1].boxplot(np.array(Grad_df['DaysOnline']))\n",
    "axs[1].set_title('Grad DaysOnline')\n",
    "axs[1].set_ylim(bottom, top)\n",
    "\n",
    "plt.show()"
   ]
  },
  {
   "cell_type": "markdown",
   "metadata": {},
   "source": [
    "In general, the distributions appear similar. There are more undergraduate outliers who spent more `DaysOnline` compared to graduate students.\n",
    "\n",
    "We now compare `DaysOnline` across classes, omitting `U4`, `G2`, and `G5` due to the small sample size for those classes:"
   ]
  },
  {
   "cell_type": "code",
   "execution_count": 41,
   "metadata": {},
   "outputs": [
    {
     "data": {
      "image/png": "[encoded data removed]",
      "text/plain": [
       "<Figure size 432x288 with 3 Axes>"
      ]
     },
     "metadata": {
      "needs_background": "light"
     },
     "output_type": "display_data"
    }
   ],
   "source": [
    "fig, axs = plt.subplots(1, 3)\n",
    "\n",
    "axs[0].boxplot(df.loc[df['Class'] == 'U2']['DaysOnline'])\n",
    "axs[0].set_title('U2 DaysOnline')\n",
    "bottom, top = axs[0].get_ylim()\n",
    "\n",
    "axs[1].boxplot(np.array(df.loc[df['Class'] == 'U3']['DaysOnline']))\n",
    "axs[1].set_title('U3 DaysOnline')\n",
    "axs[1].set_ylim(bottom, top)\n",
    "\n",
    "axs[2].boxplot(np.array(df.loc[df['Class'] == 'G1']['DaysOnline']))\n",
    "axs[2].set_title('G1 DaysOnline')\n",
    "axs[2].set_ylim(bottom, top)\n",
    "\n",
    "plt.show()"
   ]
  },
  {
   "cell_type": "markdown",
   "metadata": {},
   "source": [
    "Again, there does not appear to be a significant difference across classes. \n",
    "\n",
    "Let's examine the same plots across options (divisions), excluding GPS as that division only had one student:"
   ]
  },
  {
   "cell_type": "code",
   "execution_count": 42,
   "metadata": {},
   "outputs": [
    {
     "data": {
      "image/png": "[encoded data removed]",
      "text/plain": [
       "<Figure size 432x288 with 10 Axes>"
      ]
     },
     "metadata": {
      "needs_background": "light"
     },
     "output_type": "display_data"
    }
   ],
   "source": [
    "fig, axs = plt.subplots(2, 5)\n",
    "set1 = ['MedE', 'EE', 'BBE', 'CCE', 'MCE']\n",
    "set2 = ['Hum', 'MCE', 'APMS', 'PMA', 'CMS']\n",
    "\n",
    "for i in range(len(set1)):\n",
    "    axs[0, i].boxplot(np.array(df_student.loc[df_student['Division'] == set1[i]]['DaysOnline']))\n",
    "    axs[0, i].set_title(set1[i])\n",
    "    axs[0, i].set_ylim(0, 275)\n",
    "\n",
    "for j in range(len(set2)):\n",
    "    axs[1, j].boxplot(np.array(df_student.loc[df_student['Division'] == set2[j]]['DaysOnline']))\n",
    "    axs[1, j].set_title(set2[j])\n",
    "    axs[1, j].set_ylim(0, 275)\n",
    "\n",
    "plt.show()"
   ]
  },
  {
   "cell_type": "markdown",
   "metadata": {},
   "source": [
    "We notice that students in the CMS department appear to have spent more `DaysOnline` compared to other divisions. \n",
    "\n",
    "Finally, let's examine `DaysOnline` for students with different grades, omitting the `D` grade as only one student achieved that grade:"
   ]
  },
  {
   "cell_type": "code",
   "execution_count": 45,
   "metadata": {},
   "outputs": [
    {
     "data": {
      "image/png": "[encoded data removed]",
      "text/plain": [
       "<Figure size 432x288 with 3 Axes>"
      ]
     },
     "metadata": {
      "needs_background": "light"
     },
     "output_type": "display_data"
    }
   ],
   "source": [
    "set3 = ['A', 'B', 'C']\n",
    "\n",
    "fig, axs = plt.subplots(1, 3)\n",
    "for k in range(len(set3)):\n",
    "    axs[k].boxplot(np.array(df_student.loc[df_student['Letter Grade'] == set3[k]]['DaysOnline']))\n",
    "    axs[k].set_title(set3[k] + ' DaysOnline')    \n",
    "    axs[k].set_ylim(0, 210)\n",
    "\n",
    "plt.savefig('16. Boxplot of DaysOnline for different grades.png')\n",
    "plt.show()"
   ]
  },
  {
   "cell_type": "markdown",
   "metadata": {},
   "source": [
    "We notice that in general, students who spent more `DaysOnline` tended to have higher grades. However, the spread of `DaysOnline` is also higher for higher grades, as more students scored `A`s compared to `B`s or `C`s. "
   ]
  },
  {
   "cell_type": "markdown",
   "metadata": {},
   "source": [
    "After `DaysOnline`, we will examine similar plots for `Views`, starting with a comparison between undergrads and grads:"
   ]
  },
  {
   "cell_type": "code",
   "execution_count": 46,
   "metadata": {},
   "outputs": [
    {
     "data": {
      "image/png": "[encoded data removed]",
      "text/plain": [
       "<Figure size 432x288 with 2 Axes>"
      ]
     },
     "metadata": {
      "needs_background": "light"
     },
     "output_type": "display_data"
    }
   ],
   "source": [
    "fig, axs = plt.subplots(1, 2)\n",
    "\n",
    "axs[0].boxplot(Undergrad_df['Views'])\n",
    "axs[0].set_title('Undergrad Views')\n",
    "axs[0].set_ylim(0, 250)\n",
    "\n",
    "axs[1].boxplot(np.array(Grad_df['Views']))\n",
    "axs[1].set_title('Grad Views')\n",
    "axs[1].set_ylim(0, 250)\n",
    "\n",
    "plt.show()"
   ]
  },
  {
   "cell_type": "markdown",
   "metadata": {},
   "source": [
    "Again, there is little difference. Next, we compare between classes:"
   ]
  },
  {
   "cell_type": "code",
   "execution_count": 49,
   "metadata": {},
   "outputs": [
    {
     "data": {
      "image/png": "[encoded data removed]",
      "text/plain": [
       "<Figure size 432x288 with 3 Axes>"
      ]
     },
     "metadata": {
      "needs_background": "light"
     },
     "output_type": "display_data"
    }
   ],
   "source": [
    "fig, axs = plt.subplots(1, 3)\n",
    "\n",
    "axs[0].boxplot(df.loc[df['Class'] == 'U2']['Views'])\n",
    "axs[0].set_title('U2 Views')\n",
    "axs[0].set_ylim(0, 225)\n",
    "\n",
    "axs[1].boxplot(np.array(df.loc[df['Class'] == 'U3']['Views']))\n",
    "axs[1].set_title('U3 Views')\n",
    "axs[1].set_ylim(0, 225)\n",
    "\n",
    "axs[2].boxplot(np.array(df.loc[df['Class'] == 'G1']['Views']))\n",
    "axs[2].set_title('G1 Views')\n",
    "axs[2].set_ylim(0, 225)\n",
    "\n",
    "plt.show()"
   ]
  },
  {
   "cell_type": "markdown",
   "metadata": {},
   "source": [
    "Seeing no obvious differences, we will then look at `Views` across divisions:"
   ]
  },
  {
   "cell_type": "code",
   "execution_count": 51,
   "metadata": {},
   "outputs": [
    {
     "data": {
      "image/png": "[encoded data removed]",
      "text/plain": [
       "<Figure size 432x288 with 10 Axes>"
      ]
     },
     "metadata": {
      "needs_background": "light"
     },
     "output_type": "display_data"
    }
   ],
   "source": [
    "fig, axs = plt.subplots(2, 5)\n",
    "\n",
    "for i in range(len(set1)):\n",
    "    axs[0, i].boxplot(np.array(df_student.loc[df_student['Division'] == set1[i]]['Views']))\n",
    "    axs[0, i].set_title(set1[i] + ' Views')\n",
    "    axs[0, i].set_ylim(0, 225)\n",
    "\n",
    "for j in range(len(set2)):\n",
    "    axs[1, j].boxplot(np.array(df_student.loc[df_student['Division'] == set2[j]]['Views']))\n",
    "    axs[1, j].set_title(set2[j] + ' Views')\n",
    "    axs[1, j].set_ylim(0, 225)\n",
    "\n",
    "plt.show()"
   ]
  },
  {
   "cell_type": "markdown",
   "metadata": {},
   "source": [
    "As with `DaysOnline`, `Views` for CMS seem to be on the higher side. However, the difference is less severe and overall the divisions appear similar in terms of `Views`.\n",
    "\n",
    "Finally, we compare across grades:"
   ]
  },
  {
   "cell_type": "code",
   "execution_count": 53,
   "metadata": {},
   "outputs": [
    {
     "data": {
      "image/png": "[encoded data removed]",
      "text/plain": [
       "<Figure size 432x288 with 3 Axes>"
      ]
     },
     "metadata": {
      "needs_background": "light"
     },
     "output_type": "display_data"
    }
   ],
   "source": [
    "fig, axs = plt.subplots(1, 3)\n",
    "for k in range(len(set3)):\n",
    "    axs[k].boxplot(np.array(df_student.loc[df_student['Grade'] == set3[k]]['Views']))\n",
    "    axs[k].set_title(set3[k] + ' Views')    \n",
    "    axs[k].set_ylim(0, 225)\n",
    "    \n",
    "plt.show()"
   ]
  },
  {
   "cell_type": "markdown",
   "metadata": {},
   "source": [
    "There were both `A` and `C` students with a high number of `Views`, and overall the spreads for each grade are similar. There does not appear to be a correlation between `Views` and the students' grades."
   ]
  },
  {
   "cell_type": "markdown",
   "metadata": {},
   "source": [
    "We will now make similar comparisons for `N-Score`, starting with undergrad vs grad."
   ]
  },
  {
   "cell_type": "markdown",
   "metadata": {},
   "source": [
    "### Attributions\n",
    "\n",
    "Notebook created by Amanda Li. \n",
    "\n",
    "Modified from `visualizations_p_nodes_box.py` by Siqiao Mu."
   ]
  }
 ],
 "metadata": {
  "kernelspec": {
   "display_name": "Python 3",
   "language": "python",
   "name": "python3"
  },
  "language_info": {
   "codemirror_mode": {
    "name": "ipython",
    "version": 3
   },
   "file_extension": ".py",
   "mimetype": "text/x-python",
   "name": "python",
   "nbconvert_exporter": "python",
   "pygments_lexer": "ipython3",
   "version": "3.8.5"
  }
 },
 "nbformat": 4,
 "nbformat_minor": 4
}
