{
 "cells": [
  {
   "cell_type": "markdown",
   "metadata": {},
   "source": [
    "# Network Metrics\n",
    "Includes analysis and visualizations based on degree distributions. Most bipartite networks analyzed in the literature are not directed. That means that each node has a single degree, which is simply the number of links that node has. -\n",
    "\n",
    "Our $pq$-network is directed. This means that each node had two degrees: in-degree (the number of links going into the node) and out-degree (the number of links going out of the node). So we have four degree distributions: distribution of in-degrees of $p$-nodes, distribution of out-degrees of $p$-nodes; distribution of in-degrees of $q$-nodes; and distribution\n",
    "of out-degrees of $q$-nodes. The last distribution is trivial since all q-nodes have out-degree equal to 1 (each question is asked by a single person). Thus, we can characterize each $pq$-network by three degree distributions."
   ]
  },
  {
   "cell_type": "code",
   "execution_count": 4,
   "metadata": {},
   "outputs": [],
   "source": [
    "import xlrd \n",
    "import matplotlib.pyplot as plt\n",
    "import matplotlib.colorbar\n",
    "import matplotlib.colors\n",
    "import matplotlib.cm\n",
    "import numpy as np\n",
    "import pandas as pd\n",
    "from scipy.stats import chisquare\n",
    "from math import factorial\n",
    "from math import exp\n",
    "from scipy.stats.distributions import chi2\n",
    "from mpl_toolkits.axes_grid1 import make_axes_locatable\n",
    "from collections import Counter\n",
    "\n",
    "import os \n",
    "\n",
    "from pq_helper import get_dataframe"
   ]
  },
  {
   "cell_type": "markdown",
   "metadata": {},
   "source": [
    "We will define the following helper function:"
   ]
  },
  {
   "cell_type": "code",
   "execution_count": 151,
   "metadata": {},
   "outputs": [],
   "source": [
    "def chi_squared_test(observed, mu, total):\n",
    "    expected = []\n",
    "    sum = 0\n",
    "    for value in range(len(observed) - 1): \n",
    "        expected.append(total * (exp(-mu) * mu**value / factorial(value)))\n",
    "        sum += total * (exp(-mu) * mu**value / factorial(value))\n",
    "    expected.append(total - sum)\n",
    "    (testStatistic, pValue) = chisquare(observed, f_exp=expected, \n",
    "                                        ddof=len(observed) - 2)  \n",
    "    p = chi2.sf(testStatistic, len(observed) - 1)\n",
    "    return (testStatistic, p)    "
   ]
  },
  {
   "cell_type": "markdown",
   "metadata": {},
   "source": [
    "First, load in the data:"
   ]
  },
  {
   "cell_type": "code",
   "execution_count": 73,
   "metadata": {},
   "outputs": [],
   "source": [
    "data_path = 'data/'\n",
    "path = os.path.join(data_path, 'acm95a100a2018_anonymized_modified.xlsx')\n",
    "(p_nodes, q_nodes, links, mod_p_nodes) = get_dataframe(path)"
   ]
  },
  {
   "cell_type": "code",
   "execution_count": 59,
   "metadata": {},
   "outputs": [
    {
     "data": {
      "text/html": [
       "<div>\n",
       "<style scoped>\n",
       "    .dataframe tbody tr th:only-of-type {\n",
       "        vertical-align: middle;\n",
       "    }\n",
       "\n",
       "    .dataframe tbody tr th {\n",
       "        vertical-align: top;\n",
       "    }\n",
       "\n",
       "    .dataframe thead th {\n",
       "        text-align: right;\n",
       "    }\n",
       "</style>\n",
       "<table border=\"1\" class=\"dataframe\">\n",
       "  <thead>\n",
       "    <tr style=\"text-align: right;\">\n",
       "      <th></th>\n",
       "      <th>ID</th>\n",
       "      <th>Role</th>\n",
       "      <th>Class</th>\n",
       "      <th>Option</th>\n",
       "      <th>Section</th>\n",
       "      <th>DaysOnline</th>\n",
       "      <th>Views</th>\n",
       "      <th>Contributions</th>\n",
       "      <th>Questions</th>\n",
       "      <th>Notes</th>\n",
       "      <th>Answers</th>\n",
       "      <th>N-Score</th>\n",
       "      <th>Grade</th>\n",
       "      <th>Status</th>\n",
       "      <th>In-Degree</th>\n",
       "      <th>Out-Degree</th>\n",
       "      <th>Seniority</th>\n",
       "    </tr>\n",
       "  </thead>\n",
       "  <tbody>\n",
       "    <tr>\n",
       "      <th>0</th>\n",
       "      <td>P1</td>\n",
       "      <td>Student</td>\n",
       "      <td>U2</td>\n",
       "      <td>ME</td>\n",
       "      <td>5.0</td>\n",
       "      <td>48</td>\n",
       "      <td>60</td>\n",
       "      <td>0</td>\n",
       "      <td>0</td>\n",
       "      <td>0</td>\n",
       "      <td>0</td>\n",
       "      <td>0.531170</td>\n",
       "      <td>B+</td>\n",
       "      <td>0</td>\n",
       "      <td>0</td>\n",
       "      <td>0</td>\n",
       "      <td>U</td>\n",
       "    </tr>\n",
       "    <tr>\n",
       "      <th>1</th>\n",
       "      <td>P2</td>\n",
       "      <td>Student</td>\n",
       "      <td>U2</td>\n",
       "      <td>ACM</td>\n",
       "      <td>5.0</td>\n",
       "      <td>150</td>\n",
       "      <td>219</td>\n",
       "      <td>14</td>\n",
       "      <td>0</td>\n",
       "      <td>0</td>\n",
       "      <td>13</td>\n",
       "      <td>0.918357</td>\n",
       "      <td>A+</td>\n",
       "      <td>1</td>\n",
       "      <td>1</td>\n",
       "      <td>5</td>\n",
       "      <td>U</td>\n",
       "    </tr>\n",
       "    <tr>\n",
       "      <th>2</th>\n",
       "      <td>P3</td>\n",
       "      <td>Student</td>\n",
       "      <td>U2</td>\n",
       "      <td>ACM</td>\n",
       "      <td>7.0</td>\n",
       "      <td>245</td>\n",
       "      <td>215</td>\n",
       "      <td>9</td>\n",
       "      <td>1</td>\n",
       "      <td>0</td>\n",
       "      <td>4</td>\n",
       "      <td>0.864791</td>\n",
       "      <td>A+</td>\n",
       "      <td>1</td>\n",
       "      <td>4</td>\n",
       "      <td>4</td>\n",
       "      <td>U</td>\n",
       "    </tr>\n",
       "    <tr>\n",
       "      <th>3</th>\n",
       "      <td>P4</td>\n",
       "      <td>Student</td>\n",
       "      <td>U3</td>\n",
       "      <td>CS</td>\n",
       "      <td>1.0</td>\n",
       "      <td>107</td>\n",
       "      <td>215</td>\n",
       "      <td>3</td>\n",
       "      <td>0</td>\n",
       "      <td>0</td>\n",
       "      <td>2</td>\n",
       "      <td>0.928847</td>\n",
       "      <td>A+</td>\n",
       "      <td>1</td>\n",
       "      <td>0</td>\n",
       "      <td>3</td>\n",
       "      <td>U</td>\n",
       "    </tr>\n",
       "    <tr>\n",
       "      <th>4</th>\n",
       "      <td>P5</td>\n",
       "      <td>Student</td>\n",
       "      <td>U2</td>\n",
       "      <td>ME</td>\n",
       "      <td>3.0</td>\n",
       "      <td>53</td>\n",
       "      <td>216</td>\n",
       "      <td>38</td>\n",
       "      <td>10</td>\n",
       "      <td>0</td>\n",
       "      <td>15</td>\n",
       "      <td>0.944688</td>\n",
       "      <td>A+</td>\n",
       "      <td>1</td>\n",
       "      <td>20</td>\n",
       "      <td>9</td>\n",
       "      <td>U</td>\n",
       "    </tr>\n",
       "    <tr>\n",
       "      <th>...</th>\n",
       "      <td>...</td>\n",
       "      <td>...</td>\n",
       "      <td>...</td>\n",
       "      <td>...</td>\n",
       "      <td>...</td>\n",
       "      <td>...</td>\n",
       "      <td>...</td>\n",
       "      <td>...</td>\n",
       "      <td>...</td>\n",
       "      <td>...</td>\n",
       "      <td>...</td>\n",
       "      <td>...</td>\n",
       "      <td>...</td>\n",
       "      <td>...</td>\n",
       "      <td>...</td>\n",
       "      <td>...</td>\n",
       "      <td>...</td>\n",
       "    </tr>\n",
       "    <tr>\n",
       "      <th>191</th>\n",
       "      <td>P192</td>\n",
       "      <td>TA</td>\n",
       "      <td>NaN</td>\n",
       "      <td>NaN</td>\n",
       "      <td>8.0</td>\n",
       "      <td>59</td>\n",
       "      <td>88</td>\n",
       "      <td>1</td>\n",
       "      <td>0</td>\n",
       "      <td>0</td>\n",
       "      <td>0</td>\n",
       "      <td>NaN</td>\n",
       "      <td>NaN</td>\n",
       "      <td>1</td>\n",
       "      <td>0</td>\n",
       "      <td>1</td>\n",
       "      <td>N</td>\n",
       "    </tr>\n",
       "    <tr>\n",
       "      <th>192</th>\n",
       "      <td>P193</td>\n",
       "      <td>TA</td>\n",
       "      <td>NaN</td>\n",
       "      <td>NaN</td>\n",
       "      <td>9.0</td>\n",
       "      <td>78</td>\n",
       "      <td>34</td>\n",
       "      <td>0</td>\n",
       "      <td>0</td>\n",
       "      <td>0</td>\n",
       "      <td>0</td>\n",
       "      <td>NaN</td>\n",
       "      <td>NaN</td>\n",
       "      <td>1</td>\n",
       "      <td>0</td>\n",
       "      <td>1</td>\n",
       "      <td>N</td>\n",
       "    </tr>\n",
       "    <tr>\n",
       "      <th>193</th>\n",
       "      <td>P194</td>\n",
       "      <td>TA</td>\n",
       "      <td>NaN</td>\n",
       "      <td>NaN</td>\n",
       "      <td>10.0</td>\n",
       "      <td>36</td>\n",
       "      <td>53</td>\n",
       "      <td>3</td>\n",
       "      <td>0</td>\n",
       "      <td>2</td>\n",
       "      <td>1</td>\n",
       "      <td>NaN</td>\n",
       "      <td>NaN</td>\n",
       "      <td>0</td>\n",
       "      <td>0</td>\n",
       "      <td>0</td>\n",
       "      <td>N</td>\n",
       "    </tr>\n",
       "    <tr>\n",
       "      <th>194</th>\n",
       "      <td>P195</td>\n",
       "      <td>Head TA</td>\n",
       "      <td>NaN</td>\n",
       "      <td>NaN</td>\n",
       "      <td>NaN</td>\n",
       "      <td>74</td>\n",
       "      <td>237</td>\n",
       "      <td>228</td>\n",
       "      <td>0</td>\n",
       "      <td>7</td>\n",
       "      <td>153</td>\n",
       "      <td>NaN</td>\n",
       "      <td>NaN</td>\n",
       "      <td>1</td>\n",
       "      <td>0</td>\n",
       "      <td>125</td>\n",
       "      <td>N</td>\n",
       "    </tr>\n",
       "    <tr>\n",
       "      <th>195</th>\n",
       "      <td>P196</td>\n",
       "      <td>Instructor</td>\n",
       "      <td>NaN</td>\n",
       "      <td>NaN</td>\n",
       "      <td>NaN</td>\n",
       "      <td>219</td>\n",
       "      <td>234</td>\n",
       "      <td>114</td>\n",
       "      <td>0</td>\n",
       "      <td>57</td>\n",
       "      <td>37</td>\n",
       "      <td>NaN</td>\n",
       "      <td>NaN</td>\n",
       "      <td>1</td>\n",
       "      <td>0</td>\n",
       "      <td>39</td>\n",
       "      <td>N</td>\n",
       "    </tr>\n",
       "  </tbody>\n",
       "</table>\n",
       "<p>196 rows × 17 columns</p>\n",
       "</div>"
      ],
      "text/plain": [
       "       ID        Role Class Option  Section  DaysOnline  Views  Contributions  \\\n",
       "0      P1     Student    U2     ME      5.0          48     60              0   \n",
       "1      P2     Student    U2    ACM      5.0         150    219             14   \n",
       "2      P3     Student    U2    ACM      7.0         245    215              9   \n",
       "3      P4     Student    U3     CS      1.0         107    215              3   \n",
       "4      P5     Student    U2     ME      3.0          53    216             38   \n",
       "..    ...         ...   ...    ...      ...         ...    ...            ...   \n",
       "191  P192          TA   NaN    NaN      8.0          59     88              1   \n",
       "192  P193          TA   NaN    NaN      9.0          78     34              0   \n",
       "193  P194          TA   NaN    NaN     10.0          36     53              3   \n",
       "194  P195     Head TA   NaN    NaN      NaN          74    237            228   \n",
       "195  P196  Instructor   NaN    NaN      NaN         219    234            114   \n",
       "\n",
       "     Questions  Notes  Answers   N-Score Grade  Status  In-Degree  Out-Degree  \\\n",
       "0            0      0        0  0.531170    B+       0          0           0   \n",
       "1            0      0       13  0.918357    A+       1          1           5   \n",
       "2            1      0        4  0.864791    A+       1          4           4   \n",
       "3            0      0        2  0.928847    A+       1          0           3   \n",
       "4           10      0       15  0.944688    A+       1         20           9   \n",
       "..         ...    ...      ...       ...   ...     ...        ...         ...   \n",
       "191          0      0        0       NaN   NaN       1          0           1   \n",
       "192          0      0        0       NaN   NaN       1          0           1   \n",
       "193          0      2        1       NaN   NaN       0          0           0   \n",
       "194          0      7      153       NaN   NaN       1          0         125   \n",
       "195          0     57       37       NaN   NaN       1          0          39   \n",
       "\n",
       "    Seniority  \n",
       "0           U  \n",
       "1           U  \n",
       "2           U  \n",
       "3           U  \n",
       "4           U  \n",
       "..        ...  \n",
       "191         N  \n",
       "192         N  \n",
       "193         N  \n",
       "194         N  \n",
       "195         N  \n",
       "\n",
       "[196 rows x 17 columns]"
      ]
     },
     "execution_count": 59,
     "metadata": {},
     "output_type": "execute_result"
    }
   ],
   "source": [
    "p_nodes"
   ]
  },
  {
   "cell_type": "markdown",
   "metadata": {},
   "source": [
    "Observe that we have computed In-Degree and Out-Degree for all $p$-nodes and In-Degree for all $q$-nodes and added these node attributes to `acm95a100a2018_anonymized_modified.xlsx`. We reproduce the code for generating the degrees below:\n",
    "\n",
    "```{python}\n",
    "# p-node Out-Degree\n",
    "p_nodes['Out-Degree'] = [0]*len(p_nodes)\n",
    "\n",
    "out = links[\"Start\"].value_counts()\n",
    "nodes = links[\"Start\"].value_counts().index\n",
    "\n",
    "for node in nodes:\n",
    "    if node[0] == 'P':\n",
    "        row_index = int(node[1:]) - 1\n",
    "        p_nodes.loc[row_index, 'Out-Degree'] = out.loc[node]\n",
    "     \n",
    "# p-node and q-node In-Degree\n",
    "p_nodes['In-Degree'] = [0]*len(p_nodes)\n",
    "q_nodes['In-Degree'] = [0]*len(q_nodes)\n",
    "\n",
    "ins = links[\"End\"].value_counts()\n",
    "nodes = links[\"End\"].value_counts().index\n",
    "for node in nodes:\n",
    "    row_index = int(node[1:]) - 1\n",
    "    if node[0] == 'P':\n",
    "        p_nodes.loc[row_index, 'In-Degree'] = ins.loc[node]\n",
    "    else:\n",
    "        q_nodes.loc[row_index, 'In-Degree'] = ins.loc[node]\n",
    "```"
   ]
  },
  {
   "cell_type": "markdown",
   "metadata": {},
   "source": [
    "We extract all unique values of In-Degree and Out-Degree for $p$-nodes in ascending order for later use. Most of our analysis will be done on students only, as instructor and TAs are expected to participate heavily in the network, unlike students."
   ]
  },
  {
   "cell_type": "code",
   "execution_count": 58,
   "metadata": {},
   "outputs": [],
   "source": [
    "# list of p-nodes out-degrees (students only)\n",
    "p_node_out = np.sort(mod_p_nodes['Out-Degree'].value_counts().index)\n",
    "    \n",
    "# list of p-nodes in-degrees (students only; note that instructors should \n",
    "# all have in-degrees of zero, since they don't ask questions)\n",
    "p_node_in = np.sort(mod_p_nodes['In-Degree'].value_counts().index) "
   ]
  },
  {
   "cell_type": "markdown",
   "metadata": {},
   "source": [
    "For our first visualization, we plot the average In-Degree of $p$-nodes against Out-Degree, coloring by average `NScore`:"
   ]
  },
  {
   "cell_type": "code",
   "execution_count": 87,
   "metadata": {},
   "outputs": [
    {
     "data": {
      "image/png": "[encoded data removed]",
      "text/plain": [
       "<Figure size 432x288 with 2 Axes>"
      ]
     },
     "metadata": {
      "needs_background": "light"
     },
     "output_type": "display_data"
    }
   ],
   "source": [
    "avg_p_in = [] # holds average in-degree of p-nodes with each out-degree \n",
    "avg_n_score = [] # holds average n-score of p-nodes with each out-degree\n",
    "for x in p_node_out: \n",
    "    total_in = 0\n",
    "    total_n = 0\n",
    "    number = 0 \n",
    "    for i in range(184):\n",
    "        if mod_p_nodes['Out-Degree'][i] == x:\n",
    "            total_in += mod_p_nodes['In-Degree'][i]\n",
    "            number += 1\n",
    "            total_n += mod_p_nodes['N-Score'][i]\n",
    "    avg_p_in.append(total_in / number)  \n",
    "    avg_n_score.append(total_n / number)\n",
    "        \n",
    "plt.scatter(p_node_out, avg_p_in, c=avg_n_score, cmap='Greens')\n",
    "c = plt.colorbar()\n",
    "c.set_label('Average N-Score')\n",
    "plt.plot(p_node_out, avg_p_in)\n",
    "plt.xlabel('P-Node Out-Degree')\n",
    "plt.ylabel('Average P-Node In-Degree')\n",
    "plt.title('Average In-Degree of P-Nodes for each Out-Degree') \n",
    "plt.show()"
   ]
  },
  {
   "cell_type": "markdown",
   "metadata": {},
   "source": [
    "We do the same for average Out-Degree against In-Degree:"
   ]
  },
  {
   "cell_type": "code",
   "execution_count": 88,
   "metadata": {},
   "outputs": [
    {
     "data": {
      "image/png": "[encoded data removed]",
      "text/plain": [
       "<Figure size 432x288 with 2 Axes>"
      ]
     },
     "metadata": {
      "needs_background": "light"
     },
     "output_type": "display_data"
    }
   ],
   "source": [
    "avg_p_out = [] # holds average out-degree of p-nodes with each in-degree \n",
    "avg_n_score2 = [] # holds average n-score of p-nodes with each in-degree\n",
    "for x in p_node_in: \n",
    "    total_out = 0\n",
    "    total_n2 = 0\n",
    "    number2 = 0 \n",
    "    for i in range(184):\n",
    "        if mod_p_nodes['In-Degree'][i] == x:\n",
    "            total_out += mod_p_nodes['Out-Degree'][i]\n",
    "            number2 += 1\n",
    "            total_n2 += mod_p_nodes['N-Score'][i]\n",
    "    avg_p_out.append(total_out / number2)  \n",
    "    avg_n_score2.append(total_n2 / number2)\n",
    "        \n",
    "plt.scatter(p_node_in, avg_p_out, c=avg_n_score2, cmap='Greens')\n",
    "c = plt.colorbar()\n",
    "c.set_label('Average N-Score')\n",
    "plt.plot(p_node_in, avg_p_out)\n",
    "plt.xlabel('P-Node In-Degree')\n",
    "plt.ylabel('Average P-Node Out-Degree')\n",
    "plt.title('Average Out-Degree of P-Nodes for each In-Degree') \n",
    "plt.show()"
   ]
  },
  {
   "cell_type": "markdown",
   "metadata": {},
   "source": [
    "There is no obvious trend between Out-Degree and In-Degree. Looking at the average `NScore`s, it appears that those $p$-nodes with the highest in-degree (asked a lot of questions) did tend to have relatively high `NScore`s.\n",
    "\n",
    "Next, we wish to visualize the degree distributions for each type of node. We work with Status $=1$ $p$-nodes only, as those who did not participate in the network have In- and Out-Degrees of 0. We begin with the In-Degrees of $p$-nodes:"
   ]
  },
  {
   "cell_type": "code",
   "execution_count": 102,
   "metadata": {},
   "outputs": [
    {
     "data": {
      "image/png": "[encoded data removed]",
      "text/plain": [
       "<Figure size 432x288 with 1 Axes>"
      ]
     },
     "metadata": {
      "needs_background": "light"
     },
     "output_type": "display_data"
    },
    {
     "data": {
      "image/png": "[encoded data removed]",
      "text/plain": [
       "<Figure size 432x288 with 1 Axes>"
      ]
     },
     "metadata": {
      "needs_background": "light"
     },
     "output_type": "display_data"
    }
   ],
   "source": [
    "# list of in-degrees of status=1 p-nodes (students only) \n",
    "status1_in = mod_p_nodes[:184].loc[mod_p_nodes[:184]['Status'] == 1]['In-Degree']\n",
    "    \n",
    "plt.hist(status1_in, bins=20, range=(0, 20))\n",
    "plt.xlabel('P-Node In-Degree')\n",
    "plt.ylabel('Number of Students')\n",
    "plt.title('Histogram of P-Node In-Degrees (Students)')\n",
    "plt.show()\n",
    "    \n",
    "# list of in-degrees of status=1 p-nodes (including TAs and instructor) \n",
    "status1_in_all = p_nodes.loc[p_nodes['Status'] == 1]['In-Degree']  \n",
    "\n",
    "plt.hist(status1_in_all, bins=20, range=(0, 20))\n",
    "plt.xlabel('P-Node In-Degree')\n",
    "plt.ylabel('Number of P-Nodes')\n",
    "plt.title('Histogram of P-Node In-Degrees (All)')\n",
    "plt.show()"
   ]
  },
  {
   "cell_type": "markdown",
   "metadata": {},
   "source": [
    "The distribution of $p$-node In-Degrees is skewed to the right, with most participants in the network asking 5 or fewer questions. With the addition of instructors and TAs, who may have made some administrative posts, the number of $p$-nodes with In-Degree 1 increases slightly. Otherwise, the two plots are identical.\n",
    "\n",
    "Next, we examine the Out-Degrees of $p$-nodes:"
   ]
  },
  {
   "cell_type": "code",
   "execution_count": 105,
   "metadata": {},
   "outputs": [
    {
     "data": {
      "image/png": "[encoded data removed]",
      "text/plain": [
       "<Figure size 432x288 with 1 Axes>"
      ]
     },
     "metadata": {
      "needs_background": "light"
     },
     "output_type": "display_data"
    },
    {
     "data": {
      "image/png": "[encoded data removed]",
      "text/plain": [
       "<Figure size 432x288 with 1 Axes>"
      ]
     },
     "metadata": {
      "needs_background": "light"
     },
     "output_type": "display_data"
    }
   ],
   "source": [
    "# list of out-degrees of status=1 p-nodes (students only) \n",
    "status1_out = mod_p_nodes[:184].loc[mod_p_nodes[:184]['Status'] == 1]['Out-Degree']\n",
    "\n",
    "plt.hist(status1_out, bins=20, range=(0, 20))\n",
    "plt.xlabel('P-Node Out-Degree')\n",
    "plt.ylabel('Number of Students')\n",
    "plt.title('Histogram of P-Node Out-Degrees')  \n",
    "plt.show()\n",
    "\n",
    "# list of out-degrees of status=1 p-nodes (including TAs and instructor) \n",
    "status1_out_all = p_nodes.loc[p_nodes['Status'] == 1]['Out-Degree']\n",
    "\n",
    "plt.hist(status1_out_all, bins=20, range=(0, 125))\n",
    "plt.xlabel('P-Node Out-Degree')\n",
    "plt.ylabel('Number of P-Nodes')\n",
    "plt.title('Histogram of P-Node Out-Degrees')\n",
    "plt.show()"
   ]
  },
  {
   "cell_type": "markdown",
   "metadata": {},
   "source": [
    "We again observe distributions skewed to the right, with most participants answering less than 8 questions. A few large outliers exist among students who answered nearly 20 questions. With the addition of instructor and TAs, we see many more large outliers, as expected, since instructor and TAs answered most of the questions posed. \n",
    "\n",
    "Finally, we look at $q$-node In-Degrees:"
   ]
  },
  {
   "cell_type": "code",
   "execution_count": 106,
   "metadata": {},
   "outputs": [
    {
     "data": {
      "image/png": "[encoded data removed]",
      "text/plain": [
       "<Figure size 432x288 with 1 Axes>"
      ]
     },
     "metadata": {
      "needs_background": "light"
     },
     "output_type": "display_data"
    }
   ],
   "source": [
    "plt.hist(q_nodes['In-Degree'], bins=6, range=(0, 6))\n",
    "plt.xlabel('Q-Node In-Degree')\n",
    "plt.ylabel('Number of Q-Nodes')\n",
    "plt.title('Histogram of Q-Node In-Degrees')\n",
    "plt.show()"
   ]
  },
  {
   "cell_type": "markdown",
   "metadata": {},
   "source": [
    "The distribution is somewhat skewed to the right, with most questions answered by 1-3 people. Only two questions were not answered, as instructor and TAs ensured that most questions were answered. "
   ]
  },
  {
   "cell_type": "markdown",
   "metadata": {},
   "source": [
    "We next use the $\\chi^2$ goodness of fit test to test whether the degree distributions are Poisson. That is, we will use it to determine whether there is a statistically significant difference between the expected frequencies (according to the Poisson distribution) and the observed frequencies of In- and Out-Degrees.\n",
    "\n",
    "Recall the Poisson PMF: \n",
    "\n",
    "$$f(k; \\mu) = \\frac{\\mu^ke^{-\\mu}}{k!}$$\n",
    "\n",
    "where $\\mu$ is the mean of the distribution and $k$ represents the degree frequency (bin). Our null hypothesis is that the degree distributions are Poisson.\n",
    "\n",
    "First, we compute the test statistic and p-value for $p$-node In-Degree. We first examine the observed In-Degree values (for all $p$-nodes):"
   ]
  },
  {
   "cell_type": "code",
   "execution_count": 112,
   "metadata": {},
   "outputs": [
    {
     "data": {
      "text/plain": [
       "Counter({1: 24,\n",
       "         4: 9,\n",
       "         0: 31,\n",
       "         20: 1,\n",
       "         3: 5,\n",
       "         13: 1,\n",
       "         2: 14,\n",
       "         8: 2,\n",
       "         10: 2,\n",
       "         14: 1,\n",
       "         7: 2,\n",
       "         11: 1,\n",
       "         6: 1,\n",
       "         5: 1,\n",
       "         18: 1})"
      ]
     },
     "execution_count": 112,
     "metadata": {},
     "output_type": "execute_result"
    }
   ],
   "source": [
    "Counter(status1_in_all)"
   ]
  },
  {
   "cell_type": "markdown",
   "metadata": {},
   "source": [
    "To ensure that the bin size for the $\\chi^2$ test remains greater than 5, we combine In-Degrees of greater than 5 into the same bin. The bins are as follows: 0, 1, 2, 3, 4, 5+. There are $6 - 1 - 1 = 4$ degrees of freedom, since we have 6 bins and one estimated parameter $\\mu$ for the Poisson distribution. "
   ]
  },
  {
   "cell_type": "code",
   "execution_count": 140,
   "metadata": {},
   "outputs": [
    {
     "name": "stdout",
     "output_type": "stream",
     "text": [
      "93.56395512364888 1.197225941251189e-18\n"
     ]
    }
   ],
   "source": [
    "(testStatistic1, pValue1) = chi_squared_test([31, 24, 14, 5, 9, 13], np.mean(status1_in_all), 196)\n",
    "print(testStatistic1, pValue1)"
   ]
  },
  {
   "cell_type": "markdown",
   "metadata": {},
   "source": [
    "The p-value is negligible, suggesting that the $p$-node In-Degree (including all $p$-nodes) does not follow a Poisson distribution.\n",
    "\n",
    "We perform the same test for $p$-node In-Degree using student nodes only:"
   ]
  },
  {
   "cell_type": "code",
   "execution_count": 121,
   "metadata": {},
   "outputs": [
    {
     "data": {
      "text/plain": [
       "Counter({1.0: 24,\n",
       "         4.0: 9,\n",
       "         0.0: 26,\n",
       "         20.0: 1,\n",
       "         3.0: 5,\n",
       "         13.0: 1,\n",
       "         2.0: 14,\n",
       "         8.0: 2,\n",
       "         10.0: 2,\n",
       "         14.0: 1,\n",
       "         7.0: 2,\n",
       "         11.0: 1,\n",
       "         6.0: 1,\n",
       "         5.0: 1,\n",
       "         18.0: 1})"
      ]
     },
     "execution_count": 121,
     "metadata": {},
     "output_type": "execute_result"
    }
   ],
   "source": [
    "Counter(status1_in)"
   ]
  },
  {
   "cell_type": "markdown",
   "metadata": {},
   "source": [
    "The bins are as follows: 0, 1, 2, 3, 4, 5+  "
   ]
  },
  {
   "cell_type": "code",
   "execution_count": 148,
   "metadata": {},
   "outputs": [
    {
     "name": "stdout",
     "output_type": "stream",
     "text": [
      "85.07132096075851 7.273009584078072e-17\n"
     ]
    }
   ],
   "source": [
    "(testStatistic2, pValue2) = chi_squared_test([26, 24, 14, 5, 9, 13], np.mean(status1_in), 184) \n",
    "print(testStatistic2, pValue2)"
   ]
  },
  {
   "cell_type": "markdown",
   "metadata": {},
   "source": [
    "The p-value is again negligible, suggesting that the $p$-node In-Degree (including students only) does not follow a Poisson distribution.\n",
    "\n",
    "We perform the same test for $p$-node Out-Degree using all nodes:"
   ]
  },
  {
   "cell_type": "code",
   "execution_count": 118,
   "metadata": {},
   "outputs": [
    {
     "data": {
      "text/plain": [
       "Counter({5: 5,\n",
       "         4: 4,\n",
       "         3: 6,\n",
       "         9: 3,\n",
       "         0: 28,\n",
       "         1: 23,\n",
       "         6: 8,\n",
       "         7: 2,\n",
       "         2: 10,\n",
       "         17: 1,\n",
       "         18: 1,\n",
       "         10: 2,\n",
       "         20: 1,\n",
       "         125: 1,\n",
       "         39: 1})"
      ]
     },
     "execution_count": 118,
     "metadata": {},
     "output_type": "execute_result"
    }
   ],
   "source": [
    "Counter(status1_out_all)"
   ]
  },
  {
   "cell_type": "markdown",
   "metadata": {},
   "source": [
    "The bins are as follows: 0, 1, 2, 3, 4, 5, 6, 7+  "
   ]
  },
  {
   "cell_type": "code",
   "execution_count": 143,
   "metadata": {},
   "outputs": [
    {
     "name": "stdout",
     "output_type": "stream",
     "text": [
      "423.4946608096509 2.1747280484521866e-87\n"
     ]
    }
   ],
   "source": [
    "(testStatistic3, pValue3) = chi_squared_test([28, 23, 10, 6, 4, 5, 8, 12], np.mean(status1_out_all) , 196)\n",
    "print(testStatistic3, pValue3)"
   ]
  },
  {
   "cell_type": "markdown",
   "metadata": {},
   "source": [
    "The p-value is again negligible, suggesting that the $p$-node Out-Degree (including all nodes) does not follow a Poisson distribution.\n",
    "\n",
    "We perform the same test for $p$-node Out-Degree with student nodes only:"
   ]
  },
  {
   "cell_type": "code",
   "execution_count": 125,
   "metadata": {},
   "outputs": [
    {
     "data": {
      "text/plain": [
       "Counter({5.0: 5,\n",
       "         4.0: 4,\n",
       "         3.0: 6,\n",
       "         9.0: 3,\n",
       "         0.0: 28,\n",
       "         1.0: 20,\n",
       "         6.0: 8,\n",
       "         7.0: 2,\n",
       "         2.0: 10,\n",
       "         17.0: 1,\n",
       "         18.0: 1,\n",
       "         10.0: 2,\n",
       "         20.0: 1})"
      ]
     },
     "execution_count": 125,
     "metadata": {},
     "output_type": "execute_result"
    }
   ],
   "source": [
    "Counter(status1_out)"
   ]
  },
  {
   "cell_type": "markdown",
   "metadata": {},
   "source": [
    "The bins are as follows: 0, 1, 2, 3, 4, 5+"
   ]
  },
  {
   "cell_type": "code",
   "execution_count": 144,
   "metadata": {},
   "outputs": [
    {
     "name": "stdout",
     "output_type": "stream",
     "text": [
      "124.37990595579588 9.364733351533025e-24\n"
     ]
    }
   ],
   "source": [
    "(testStatistic4, pValue4) = chi_squared_test([28, 20, 10, 6, 4, 5, 8, 10], np.mean(status1_out), 184)\n",
    "print(testStatistic4, pValue4)"
   ]
  },
  {
   "cell_type": "markdown",
   "metadata": {},
   "source": [
    "The p-value is again negligible, suggesting that the $p$-node Out-Degree (including students only) does not follow a Poisson distribution.\n",
    "\n",
    "Finally, we perform the same test for $q$-node In-Degree:"
   ]
  },
  {
   "cell_type": "code",
   "execution_count": 128,
   "metadata": {},
   "outputs": [
    {
     "data": {
      "text/plain": [
       "1    126\n",
       "2     60\n",
       "3     35\n",
       "4     13\n",
       "5      4\n",
       "0      2\n",
       "6      1\n",
       "Name: In-Degree, dtype: int64"
      ]
     },
     "execution_count": 128,
     "metadata": {},
     "output_type": "execute_result"
    }
   ],
   "source": [
    "q_nodes['In-Degree'].value_counts()"
   ]
  },
  {
   "cell_type": "markdown",
   "metadata": {},
   "source": [
    "The bins are as follows: 0-1, 2, 3, 4, 5+   "
   ]
  },
  {
   "cell_type": "code",
   "execution_count": 145,
   "metadata": {},
   "outputs": [
    {
     "name": "stdout",
     "output_type": "stream",
     "text": [
      "4.9028474129725925 0.17905093790154217\n"
     ]
    }
   ],
   "source": [
    "observed = [128, 60, 35, 13, 5]\n",
    "expected = []\n",
    "total = 241\n",
    "mu = np.mean(q_nodes['In-Degree'])\n",
    "sum = 0\n",
    "\n",
    "# first bin, which contains 0 and 1\n",
    "expected.append(total * (exp(-mu) + exp(-mu) * mu))\n",
    "sum += total * (exp(-mu) + exp(-mu) * mu)  \n",
    "\n",
    "# other bins\n",
    "for value in range(2, 5): \n",
    "    expected.append(total * (exp(-mu) * mu**value / factorial(value)))\n",
    "    sum += total * (exp(-mu) * mu**value / factorial(value))\n",
    "expected.append(total - sum)\n",
    "\n",
    "(testStatistic5, p5) = chisquare(observed, f_exp=expected, ddof=4)    \n",
    "pValue5 = chi2.sf(testStatistic5, len(observed) - 2)\n",
    "print(testStatistic5, pValue5)"
   ]
  },
  {
   "cell_type": "markdown",
   "metadata": {},
   "source": [
    "This time, a p-value of $\\approx 0.18$ suggests that the In-Degrees of the $q$-nodes do follow a Poisson distribution with parameter $\\mu = 1.780083$ (we fail to reject our null hypothesis). Thus, we might expect each question to be answered by about 2 people and for the probability of a question being answered by $n$ people to follow the Poisson PMF."
   ]
  },
  {
   "cell_type": "markdown",
   "metadata": {},
   "source": [
    "### Attributions\n",
    "\n",
    "Notebook created by Amanda Li. \n",
    "\n",
    "Modified from `network_metrics_degree_distributions.py` by Amanda Li."
   ]
  }
 ],
 "metadata": {
  "kernelspec": {
   "display_name": "Python 3",
   "language": "python",
   "name": "python3"
  },
  "language_info": {
   "codemirror_mode": {
    "name": "ipython",
    "version": 3
   },
   "file_extension": ".py",
   "mimetype": "text/x-python",
   "name": "python",
   "nbconvert_exporter": "python",
   "pygments_lexer": "ipython3",
   "version": "3.8.5"
  }
 },
 "nbformat": 4,
 "nbformat_minor": 4
}
