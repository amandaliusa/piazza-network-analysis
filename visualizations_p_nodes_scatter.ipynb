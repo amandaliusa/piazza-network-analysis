{
 "cells": [
  {
   "cell_type": "markdown",
   "metadata": {},
   "source": [
    "# Visualizations of P-Nodes\n",
    "Includes scatter plots."
   ]
  },
  {
   "cell_type": "code",
   "execution_count": 12,
   "metadata": {},
   "outputs": [],
   "source": [
    "import pandas as pd\n",
    "import numpy as np\n",
    "import matplotlib.pyplot as plt\n",
    "\n",
    "import os\n",
    "\n",
    "from pq_helper import get_dataframe"
   ]
  },
  {
   "cell_type": "markdown",
   "metadata": {},
   "source": [
    "Load in the data:"
   ]
  },
  {
   "cell_type": "code",
   "execution_count": 15,
   "metadata": {},
   "outputs": [],
   "source": [
    "data_path = 'data/acm95a100a2018_anonymized_modified.xlsx'\n",
    "df = pd.read_excel(data_path)\n",
    "df = df.apply(pd.to_numeric, errors='ignore')"
   ]
  },
  {
   "cell_type": "code",
   "execution_count": 16,
   "metadata": {},
   "outputs": [
    {
     "data": {
      "text/html": [
       "<div>\n",
       "<style scoped>\n",
       "    .dataframe tbody tr th:only-of-type {\n",
       "        vertical-align: middle;\n",
       "    }\n",
       "\n",
       "    .dataframe tbody tr th {\n",
       "        vertical-align: top;\n",
       "    }\n",
       "\n",
       "    .dataframe thead th {\n",
       "        text-align: right;\n",
       "    }\n",
       "</style>\n",
       "<table border=\"1\" class=\"dataframe\">\n",
       "  <thead>\n",
       "    <tr style=\"text-align: right;\">\n",
       "      <th></th>\n",
       "      <th>ID</th>\n",
       "      <th>Role</th>\n",
       "      <th>Class</th>\n",
       "      <th>Option</th>\n",
       "      <th>Section</th>\n",
       "      <th>DaysOnline</th>\n",
       "      <th>Views</th>\n",
       "      <th>Contributions</th>\n",
       "      <th>Questions</th>\n",
       "      <th>Notes</th>\n",
       "      <th>Answers</th>\n",
       "      <th>N-Score</th>\n",
       "      <th>Grade</th>\n",
       "      <th>Status</th>\n",
       "      <th>In-Degree</th>\n",
       "      <th>Out-Degree</th>\n",
       "      <th>Seniority</th>\n",
       "    </tr>\n",
       "  </thead>\n",
       "  <tbody>\n",
       "    <tr>\n",
       "      <th>0</th>\n",
       "      <td>P1</td>\n",
       "      <td>Student</td>\n",
       "      <td>U2</td>\n",
       "      <td>ME</td>\n",
       "      <td>5.0</td>\n",
       "      <td>48</td>\n",
       "      <td>60</td>\n",
       "      <td>0</td>\n",
       "      <td>0</td>\n",
       "      <td>0</td>\n",
       "      <td>0</td>\n",
       "      <td>0.531170</td>\n",
       "      <td>B+</td>\n",
       "      <td>0</td>\n",
       "      <td>0</td>\n",
       "      <td>0</td>\n",
       "      <td>U</td>\n",
       "    </tr>\n",
       "    <tr>\n",
       "      <th>1</th>\n",
       "      <td>P2</td>\n",
       "      <td>Student</td>\n",
       "      <td>U2</td>\n",
       "      <td>ACM</td>\n",
       "      <td>5.0</td>\n",
       "      <td>150</td>\n",
       "      <td>219</td>\n",
       "      <td>14</td>\n",
       "      <td>0</td>\n",
       "      <td>0</td>\n",
       "      <td>13</td>\n",
       "      <td>0.918357</td>\n",
       "      <td>A+</td>\n",
       "      <td>1</td>\n",
       "      <td>1</td>\n",
       "      <td>5</td>\n",
       "      <td>U</td>\n",
       "    </tr>\n",
       "    <tr>\n",
       "      <th>2</th>\n",
       "      <td>P3</td>\n",
       "      <td>Student</td>\n",
       "      <td>U2</td>\n",
       "      <td>ACM</td>\n",
       "      <td>7.0</td>\n",
       "      <td>245</td>\n",
       "      <td>215</td>\n",
       "      <td>9</td>\n",
       "      <td>1</td>\n",
       "      <td>0</td>\n",
       "      <td>4</td>\n",
       "      <td>0.864791</td>\n",
       "      <td>A+</td>\n",
       "      <td>1</td>\n",
       "      <td>4</td>\n",
       "      <td>4</td>\n",
       "      <td>U</td>\n",
       "    </tr>\n",
       "    <tr>\n",
       "      <th>3</th>\n",
       "      <td>P4</td>\n",
       "      <td>Student</td>\n",
       "      <td>U3</td>\n",
       "      <td>CS</td>\n",
       "      <td>1.0</td>\n",
       "      <td>107</td>\n",
       "      <td>215</td>\n",
       "      <td>3</td>\n",
       "      <td>0</td>\n",
       "      <td>0</td>\n",
       "      <td>2</td>\n",
       "      <td>0.928847</td>\n",
       "      <td>A+</td>\n",
       "      <td>1</td>\n",
       "      <td>0</td>\n",
       "      <td>3</td>\n",
       "      <td>U</td>\n",
       "    </tr>\n",
       "    <tr>\n",
       "      <th>4</th>\n",
       "      <td>P5</td>\n",
       "      <td>Student</td>\n",
       "      <td>U2</td>\n",
       "      <td>ME</td>\n",
       "      <td>3.0</td>\n",
       "      <td>53</td>\n",
       "      <td>216</td>\n",
       "      <td>38</td>\n",
       "      <td>10</td>\n",
       "      <td>0</td>\n",
       "      <td>15</td>\n",
       "      <td>0.944688</td>\n",
       "      <td>A+</td>\n",
       "      <td>1</td>\n",
       "      <td>20</td>\n",
       "      <td>9</td>\n",
       "      <td>U</td>\n",
       "    </tr>\n",
       "    <tr>\n",
       "      <th>...</th>\n",
       "      <td>...</td>\n",
       "      <td>...</td>\n",
       "      <td>...</td>\n",
       "      <td>...</td>\n",
       "      <td>...</td>\n",
       "      <td>...</td>\n",
       "      <td>...</td>\n",
       "      <td>...</td>\n",
       "      <td>...</td>\n",
       "      <td>...</td>\n",
       "      <td>...</td>\n",
       "      <td>...</td>\n",
       "      <td>...</td>\n",
       "      <td>...</td>\n",
       "      <td>...</td>\n",
       "      <td>...</td>\n",
       "      <td>...</td>\n",
       "    </tr>\n",
       "    <tr>\n",
       "      <th>191</th>\n",
       "      <td>P192</td>\n",
       "      <td>TA</td>\n",
       "      <td>NaN</td>\n",
       "      <td>NaN</td>\n",
       "      <td>8.0</td>\n",
       "      <td>59</td>\n",
       "      <td>88</td>\n",
       "      <td>1</td>\n",
       "      <td>0</td>\n",
       "      <td>0</td>\n",
       "      <td>0</td>\n",
       "      <td>NaN</td>\n",
       "      <td>NaN</td>\n",
       "      <td>1</td>\n",
       "      <td>0</td>\n",
       "      <td>1</td>\n",
       "      <td>N</td>\n",
       "    </tr>\n",
       "    <tr>\n",
       "      <th>192</th>\n",
       "      <td>P193</td>\n",
       "      <td>TA</td>\n",
       "      <td>NaN</td>\n",
       "      <td>NaN</td>\n",
       "      <td>9.0</td>\n",
       "      <td>78</td>\n",
       "      <td>34</td>\n",
       "      <td>0</td>\n",
       "      <td>0</td>\n",
       "      <td>0</td>\n",
       "      <td>0</td>\n",
       "      <td>NaN</td>\n",
       "      <td>NaN</td>\n",
       "      <td>1</td>\n",
       "      <td>0</td>\n",
       "      <td>1</td>\n",
       "      <td>N</td>\n",
       "    </tr>\n",
       "    <tr>\n",
       "      <th>193</th>\n",
       "      <td>P194</td>\n",
       "      <td>TA</td>\n",
       "      <td>NaN</td>\n",
       "      <td>NaN</td>\n",
       "      <td>10.0</td>\n",
       "      <td>36</td>\n",
       "      <td>53</td>\n",
       "      <td>3</td>\n",
       "      <td>0</td>\n",
       "      <td>2</td>\n",
       "      <td>1</td>\n",
       "      <td>NaN</td>\n",
       "      <td>NaN</td>\n",
       "      <td>0</td>\n",
       "      <td>0</td>\n",
       "      <td>0</td>\n",
       "      <td>N</td>\n",
       "    </tr>\n",
       "    <tr>\n",
       "      <th>194</th>\n",
       "      <td>P195</td>\n",
       "      <td>Head TA</td>\n",
       "      <td>NaN</td>\n",
       "      <td>NaN</td>\n",
       "      <td>NaN</td>\n",
       "      <td>74</td>\n",
       "      <td>237</td>\n",
       "      <td>228</td>\n",
       "      <td>0</td>\n",
       "      <td>7</td>\n",
       "      <td>153</td>\n",
       "      <td>NaN</td>\n",
       "      <td>NaN</td>\n",
       "      <td>1</td>\n",
       "      <td>0</td>\n",
       "      <td>125</td>\n",
       "      <td>N</td>\n",
       "    </tr>\n",
       "    <tr>\n",
       "      <th>195</th>\n",
       "      <td>P196</td>\n",
       "      <td>Instructor</td>\n",
       "      <td>NaN</td>\n",
       "      <td>NaN</td>\n",
       "      <td>NaN</td>\n",
       "      <td>219</td>\n",
       "      <td>234</td>\n",
       "      <td>114</td>\n",
       "      <td>0</td>\n",
       "      <td>57</td>\n",
       "      <td>37</td>\n",
       "      <td>NaN</td>\n",
       "      <td>NaN</td>\n",
       "      <td>1</td>\n",
       "      <td>0</td>\n",
       "      <td>39</td>\n",
       "      <td>N</td>\n",
       "    </tr>\n",
       "  </tbody>\n",
       "</table>\n",
       "<p>196 rows × 17 columns</p>\n",
       "</div>"
      ],
      "text/plain": [
       "       ID        Role Class Option  Section  DaysOnline  Views  Contributions  \\\n",
       "0      P1     Student    U2     ME      5.0          48     60              0   \n",
       "1      P2     Student    U2    ACM      5.0         150    219             14   \n",
       "2      P3     Student    U2    ACM      7.0         245    215              9   \n",
       "3      P4     Student    U3     CS      1.0         107    215              3   \n",
       "4      P5     Student    U2     ME      3.0          53    216             38   \n",
       "..    ...         ...   ...    ...      ...         ...    ...            ...   \n",
       "191  P192          TA   NaN    NaN      8.0          59     88              1   \n",
       "192  P193          TA   NaN    NaN      9.0          78     34              0   \n",
       "193  P194          TA   NaN    NaN     10.0          36     53              3   \n",
       "194  P195     Head TA   NaN    NaN      NaN          74    237            228   \n",
       "195  P196  Instructor   NaN    NaN      NaN         219    234            114   \n",
       "\n",
       "     Questions  Notes  Answers   N-Score Grade  Status  In-Degree  Out-Degree  \\\n",
       "0            0      0        0  0.531170    B+       0          0           0   \n",
       "1            0      0       13  0.918357    A+       1          1           5   \n",
       "2            1      0        4  0.864791    A+       1          4           4   \n",
       "3            0      0        2  0.928847    A+       1          0           3   \n",
       "4           10      0       15  0.944688    A+       1         20           9   \n",
       "..         ...    ...      ...       ...   ...     ...        ...         ...   \n",
       "191          0      0        0       NaN   NaN       1          0           1   \n",
       "192          0      0        0       NaN   NaN       1          0           1   \n",
       "193          0      2        1       NaN   NaN       0          0           0   \n",
       "194          0      7      153       NaN   NaN       1          0         125   \n",
       "195          0     57       37       NaN   NaN       1          0          39   \n",
       "\n",
       "    Seniority  \n",
       "0           U  \n",
       "1           U  \n",
       "2           U  \n",
       "3           U  \n",
       "4           U  \n",
       "..        ...  \n",
       "191         N  \n",
       "192         N  \n",
       "193         N  \n",
       "194         N  \n",
       "195         N  \n",
       "\n",
       "[196 rows x 17 columns]"
      ]
     },
     "execution_count": 16,
     "metadata": {},
     "output_type": "execute_result"
    }
   ],
   "source": [
    "df"
   ]
  },
  {
   "cell_type": "markdown",
   "metadata": {},
   "source": [
    "We first perform some data tidying. We will create a column to group options into fewer categories based on a dictionary which maps each option into its academic division. We will also create a column that groups options into either the top 6 divisions or 'Other'. "
   ]
  },
  {
   "cell_type": "code",
   "execution_count": 19,
   "metadata": {},
   "outputs": [],
   "source": [
    "Nstudent = 184\n",
    "Option = df['Option']\n",
    "\n",
    "option_dict = {'ACM': 'CMS', 'AM': 'MCE', 'APh': 'APMS', 'Ae':'EAS', 'Aph':'APMS', 'BE':'BBE', 'BMB':'CCE', 'Bi':'BBE', 'CS':'CMS', 'Ch':'CCE', 'ChE': 'CCE', 'ChE (BM)':'CCE', 'ChE (Env)':'CCE', 'ChE (MS)':'CCE', 'ChE (PS)': 'CCE', 'EE':'EE', 'Eng': 'Hum', 'Eng (CNS)': 'Hum', 'Ge': 'GPS', 'ME':'MCE', 'MS':'APMS', 'MedE': 'MedE', 'Ph': 'PMA', 'PlSc':'Hum', 'SE':'EAS', 'AsPh':'PMA'}\n",
    "top_divisions = ['PMA', 'EE', 'MCE', 'EAS', 'CCE', 'APMS']\n",
    "\n",
    "new_option_dict = dict()\n",
    "for k in option_dict:\n",
    "    if option_dict[k] in top_divisions:\n",
    "        new_option_dict[k] = option_dict[k]\n",
    "    else:\n",
    "        new_option_dict[k] = 'Other'\n",
    "\n",
    "divisions = np.array([option_dict[i] for i in Option[0:Nstudent]])\n",
    "new_divisions = np.array([new_option_dict[i] for i in Option[0:Nstudent]])"
   ]
  },
  {
   "cell_type": "markdown",
   "metadata": {},
   "source": [
    "We'll also create a column for students' grades, omitting $\\pm$ grades:"
   ]
  },
  {
   "cell_type": "code",
   "execution_count": 23,
   "metadata": {},
   "outputs": [],
   "source": [
    "Grade = df['Grade']\n",
    "Grade_values = [u'A+', u'A', u'A-', u'B+', u'B', u'B-', u'C+', u'C', u'C-', u'D+']\n",
    "\n",
    "letter_grades = [grade[0] for grade in Grade[0:Nstudent]] \n",
    "sorted_grade_values = sorted(set(letter_grades))"
   ]
  },
  {
   "cell_type": "markdown",
   "metadata": {},
   "source": [
    "We will create a column to indicate each student's seniority (i.e. Undergrad vs Grad):"
   ]
  },
  {
   "cell_type": "code",
   "execution_count": 24,
   "metadata": {},
   "outputs": [],
   "source": [
    "Class = df['Class']\n",
    "seniority = [clas[0] for clas in Class[0:Nstudent]]\n",
    "\n",
    "class_values = sorted(set(Class[0:Nstudent]))"
   ]
  },
  {
   "cell_type": "markdown",
   "metadata": {},
   "source": [
    "We will also pull out the `N-Score` of each student for later use:"
   ]
  },
  {
   "cell_type": "code",
   "execution_count": 28,
   "metadata": {},
   "outputs": [],
   "source": [
    "Nscore = df['N-Score']"
   ]
  },
  {
   "cell_type": "markdown",
   "metadata": {},
   "source": [
    "Now, we construct a dataframe that omits TAs and instructor and includes the columns we constructed above:"
   ]
  },
  {
   "cell_type": "code",
   "execution_count": 27,
   "metadata": {},
   "outputs": [
    {
     "name": "stderr",
     "output_type": "stream",
     "text": [
      "<ipython-input-27-37bf246dd8e3>:2: SettingWithCopyWarning: \n",
      "A value is trying to be set on a copy of a slice from a DataFrame.\n",
      "Try using .loc[row_indexer,col_indexer] = value instead\n",
      "\n",
      "See the caveats in the documentation: https://pandas.pydata.org/pandas-docs/stable/user_guide/indexing.html#returning-a-view-versus-a-copy\n",
      "  df_student['Division'] = pd.Series(divisions)\n",
      "<ipython-input-27-37bf246dd8e3>:3: SettingWithCopyWarning: \n",
      "A value is trying to be set on a copy of a slice from a DataFrame.\n",
      "Try using .loc[row_indexer,col_indexer] = value instead\n",
      "\n",
      "See the caveats in the documentation: https://pandas.pydata.org/pandas-docs/stable/user_guide/indexing.html#returning-a-view-versus-a-copy\n",
      "  df_student['NewDivision'] = pd.Series(new_divisions)\n",
      "<ipython-input-27-37bf246dd8e3>:4: SettingWithCopyWarning: \n",
      "A value is trying to be set on a copy of a slice from a DataFrame.\n",
      "Try using .loc[row_indexer,col_indexer] = value instead\n",
      "\n",
      "See the caveats in the documentation: https://pandas.pydata.org/pandas-docs/stable/user_guide/indexing.html#returning-a-view-versus-a-copy\n",
      "  df_student['LetterGrade'] = pd.Series(letter_grades)\n",
      "<ipython-input-27-37bf246dd8e3>:5: SettingWithCopyWarning: \n",
      "A value is trying to be set on a copy of a slice from a DataFrame.\n",
      "Try using .loc[row_indexer,col_indexer] = value instead\n",
      "\n",
      "See the caveats in the documentation: https://pandas.pydata.org/pandas-docs/stable/user_guide/indexing.html#returning-a-view-versus-a-copy\n",
      "  df_student['Seniority'] = pd.Series(seniority)\n"
     ]
    }
   ],
   "source": [
    "df_student = df.iloc[0:Nstudent]\n",
    "df_student['Division'] = pd.Series(divisions)\n",
    "df_student['NewDivision'] = pd.Series(new_divisions)\n",
    "df_student['LetterGrade'] = pd.Series(letter_grades)\n",
    "df_student['Seniority'] = pd.Series(seniority)"
   ]
  },
  {
   "cell_type": "code",
   "execution_count": 29,
   "metadata": {},
   "outputs": [
    {
     "data": {
      "text/html": [
       "<div>\n",
       "<style scoped>\n",
       "    .dataframe tbody tr th:only-of-type {\n",
       "        vertical-align: middle;\n",
       "    }\n",
       "\n",
       "    .dataframe tbody tr th {\n",
       "        vertical-align: top;\n",
       "    }\n",
       "\n",
       "    .dataframe thead th {\n",
       "        text-align: right;\n",
       "    }\n",
       "</style>\n",
       "<table border=\"1\" class=\"dataframe\">\n",
       "  <thead>\n",
       "    <tr style=\"text-align: right;\">\n",
       "      <th></th>\n",
       "      <th>ID</th>\n",
       "      <th>Role</th>\n",
       "      <th>Class</th>\n",
       "      <th>Option</th>\n",
       "      <th>Section</th>\n",
       "      <th>DaysOnline</th>\n",
       "      <th>Views</th>\n",
       "      <th>Contributions</th>\n",
       "      <th>Questions</th>\n",
       "      <th>Notes</th>\n",
       "      <th>Answers</th>\n",
       "      <th>N-Score</th>\n",
       "      <th>Grade</th>\n",
       "      <th>Status</th>\n",
       "      <th>In-Degree</th>\n",
       "      <th>Out-Degree</th>\n",
       "      <th>Seniority</th>\n",
       "      <th>Division</th>\n",
       "      <th>NewDivision</th>\n",
       "      <th>LetterGrade</th>\n",
       "    </tr>\n",
       "  </thead>\n",
       "  <tbody>\n",
       "    <tr>\n",
       "      <th>0</th>\n",
       "      <td>P1</td>\n",
       "      <td>Student</td>\n",
       "      <td>U2</td>\n",
       "      <td>ME</td>\n",
       "      <td>5.0</td>\n",
       "      <td>48</td>\n",
       "      <td>60</td>\n",
       "      <td>0</td>\n",
       "      <td>0</td>\n",
       "      <td>0</td>\n",
       "      <td>0</td>\n",
       "      <td>0.531170</td>\n",
       "      <td>B+</td>\n",
       "      <td>0</td>\n",
       "      <td>0</td>\n",
       "      <td>0</td>\n",
       "      <td>U</td>\n",
       "      <td>MCE</td>\n",
       "      <td>MCE</td>\n",
       "      <td>B</td>\n",
       "    </tr>\n",
       "    <tr>\n",
       "      <th>1</th>\n",
       "      <td>P2</td>\n",
       "      <td>Student</td>\n",
       "      <td>U2</td>\n",
       "      <td>ACM</td>\n",
       "      <td>5.0</td>\n",
       "      <td>150</td>\n",
       "      <td>219</td>\n",
       "      <td>14</td>\n",
       "      <td>0</td>\n",
       "      <td>0</td>\n",
       "      <td>13</td>\n",
       "      <td>0.918357</td>\n",
       "      <td>A+</td>\n",
       "      <td>1</td>\n",
       "      <td>1</td>\n",
       "      <td>5</td>\n",
       "      <td>U</td>\n",
       "      <td>CMS</td>\n",
       "      <td>Other</td>\n",
       "      <td>A</td>\n",
       "    </tr>\n",
       "    <tr>\n",
       "      <th>2</th>\n",
       "      <td>P3</td>\n",
       "      <td>Student</td>\n",
       "      <td>U2</td>\n",
       "      <td>ACM</td>\n",
       "      <td>7.0</td>\n",
       "      <td>245</td>\n",
       "      <td>215</td>\n",
       "      <td>9</td>\n",
       "      <td>1</td>\n",
       "      <td>0</td>\n",
       "      <td>4</td>\n",
       "      <td>0.864791</td>\n",
       "      <td>A+</td>\n",
       "      <td>1</td>\n",
       "      <td>4</td>\n",
       "      <td>4</td>\n",
       "      <td>U</td>\n",
       "      <td>CMS</td>\n",
       "      <td>Other</td>\n",
       "      <td>A</td>\n",
       "    </tr>\n",
       "    <tr>\n",
       "      <th>3</th>\n",
       "      <td>P4</td>\n",
       "      <td>Student</td>\n",
       "      <td>U3</td>\n",
       "      <td>CS</td>\n",
       "      <td>1.0</td>\n",
       "      <td>107</td>\n",
       "      <td>215</td>\n",
       "      <td>3</td>\n",
       "      <td>0</td>\n",
       "      <td>0</td>\n",
       "      <td>2</td>\n",
       "      <td>0.928847</td>\n",
       "      <td>A+</td>\n",
       "      <td>1</td>\n",
       "      <td>0</td>\n",
       "      <td>3</td>\n",
       "      <td>U</td>\n",
       "      <td>CMS</td>\n",
       "      <td>Other</td>\n",
       "      <td>A</td>\n",
       "    </tr>\n",
       "    <tr>\n",
       "      <th>4</th>\n",
       "      <td>P5</td>\n",
       "      <td>Student</td>\n",
       "      <td>U2</td>\n",
       "      <td>ME</td>\n",
       "      <td>3.0</td>\n",
       "      <td>53</td>\n",
       "      <td>216</td>\n",
       "      <td>38</td>\n",
       "      <td>10</td>\n",
       "      <td>0</td>\n",
       "      <td>15</td>\n",
       "      <td>0.944688</td>\n",
       "      <td>A+</td>\n",
       "      <td>1</td>\n",
       "      <td>20</td>\n",
       "      <td>9</td>\n",
       "      <td>U</td>\n",
       "      <td>MCE</td>\n",
       "      <td>MCE</td>\n",
       "      <td>A</td>\n",
       "    </tr>\n",
       "    <tr>\n",
       "      <th>...</th>\n",
       "      <td>...</td>\n",
       "      <td>...</td>\n",
       "      <td>...</td>\n",
       "      <td>...</td>\n",
       "      <td>...</td>\n",
       "      <td>...</td>\n",
       "      <td>...</td>\n",
       "      <td>...</td>\n",
       "      <td>...</td>\n",
       "      <td>...</td>\n",
       "      <td>...</td>\n",
       "      <td>...</td>\n",
       "      <td>...</td>\n",
       "      <td>...</td>\n",
       "      <td>...</td>\n",
       "      <td>...</td>\n",
       "      <td>...</td>\n",
       "      <td>...</td>\n",
       "      <td>...</td>\n",
       "      <td>...</td>\n",
       "    </tr>\n",
       "    <tr>\n",
       "      <th>179</th>\n",
       "      <td>P180</td>\n",
       "      <td>Student</td>\n",
       "      <td>U2</td>\n",
       "      <td>ACM</td>\n",
       "      <td>2.0</td>\n",
       "      <td>176</td>\n",
       "      <td>111</td>\n",
       "      <td>5</td>\n",
       "      <td>2</td>\n",
       "      <td>0</td>\n",
       "      <td>3</td>\n",
       "      <td>0.917763</td>\n",
       "      <td>A+</td>\n",
       "      <td>1</td>\n",
       "      <td>2</td>\n",
       "      <td>3</td>\n",
       "      <td>U</td>\n",
       "      <td>CMS</td>\n",
       "      <td>Other</td>\n",
       "      <td>A</td>\n",
       "    </tr>\n",
       "    <tr>\n",
       "      <th>180</th>\n",
       "      <td>P181</td>\n",
       "      <td>Student</td>\n",
       "      <td>G1</td>\n",
       "      <td>MedE</td>\n",
       "      <td>10.0</td>\n",
       "      <td>69</td>\n",
       "      <td>156</td>\n",
       "      <td>22</td>\n",
       "      <td>10</td>\n",
       "      <td>0</td>\n",
       "      <td>2</td>\n",
       "      <td>0.913733</td>\n",
       "      <td>A+</td>\n",
       "      <td>1</td>\n",
       "      <td>18</td>\n",
       "      <td>2</td>\n",
       "      <td>G</td>\n",
       "      <td>MedE</td>\n",
       "      <td>Other</td>\n",
       "      <td>A</td>\n",
       "    </tr>\n",
       "    <tr>\n",
       "      <th>181</th>\n",
       "      <td>P182</td>\n",
       "      <td>Student</td>\n",
       "      <td>U3</td>\n",
       "      <td>CS</td>\n",
       "      <td>1.0</td>\n",
       "      <td>150</td>\n",
       "      <td>206</td>\n",
       "      <td>0</td>\n",
       "      <td>0</td>\n",
       "      <td>0</td>\n",
       "      <td>0</td>\n",
       "      <td>0.639748</td>\n",
       "      <td>A-</td>\n",
       "      <td>0</td>\n",
       "      <td>0</td>\n",
       "      <td>0</td>\n",
       "      <td>U</td>\n",
       "      <td>CMS</td>\n",
       "      <td>Other</td>\n",
       "      <td>A</td>\n",
       "    </tr>\n",
       "    <tr>\n",
       "      <th>182</th>\n",
       "      <td>P183</td>\n",
       "      <td>Student</td>\n",
       "      <td>G1</td>\n",
       "      <td>MedE</td>\n",
       "      <td>7.0</td>\n",
       "      <td>94</td>\n",
       "      <td>113</td>\n",
       "      <td>0</td>\n",
       "      <td>0</td>\n",
       "      <td>0</td>\n",
       "      <td>0</td>\n",
       "      <td>0.778504</td>\n",
       "      <td>A</td>\n",
       "      <td>0</td>\n",
       "      <td>0</td>\n",
       "      <td>0</td>\n",
       "      <td>G</td>\n",
       "      <td>MedE</td>\n",
       "      <td>Other</td>\n",
       "      <td>A</td>\n",
       "    </tr>\n",
       "    <tr>\n",
       "      <th>183</th>\n",
       "      <td>P184</td>\n",
       "      <td>Student</td>\n",
       "      <td>U3</td>\n",
       "      <td>EE</td>\n",
       "      <td>9.0</td>\n",
       "      <td>95</td>\n",
       "      <td>47</td>\n",
       "      <td>0</td>\n",
       "      <td>0</td>\n",
       "      <td>0</td>\n",
       "      <td>0</td>\n",
       "      <td>0.724592</td>\n",
       "      <td>A</td>\n",
       "      <td>0</td>\n",
       "      <td>0</td>\n",
       "      <td>0</td>\n",
       "      <td>U</td>\n",
       "      <td>EE</td>\n",
       "      <td>EE</td>\n",
       "      <td>A</td>\n",
       "    </tr>\n",
       "  </tbody>\n",
       "</table>\n",
       "<p>184 rows × 20 columns</p>\n",
       "</div>"
      ],
      "text/plain": [
       "       ID     Role Class Option  Section  DaysOnline  Views  Contributions  \\\n",
       "0      P1  Student    U2     ME      5.0          48     60              0   \n",
       "1      P2  Student    U2    ACM      5.0         150    219             14   \n",
       "2      P3  Student    U2    ACM      7.0         245    215              9   \n",
       "3      P4  Student    U3     CS      1.0         107    215              3   \n",
       "4      P5  Student    U2     ME      3.0          53    216             38   \n",
       "..    ...      ...   ...    ...      ...         ...    ...            ...   \n",
       "179  P180  Student    U2    ACM      2.0         176    111              5   \n",
       "180  P181  Student    G1   MedE     10.0          69    156             22   \n",
       "181  P182  Student    U3     CS      1.0         150    206              0   \n",
       "182  P183  Student    G1   MedE      7.0          94    113              0   \n",
       "183  P184  Student    U3     EE      9.0          95     47              0   \n",
       "\n",
       "     Questions  Notes  Answers   N-Score Grade  Status  In-Degree  Out-Degree  \\\n",
       "0            0      0        0  0.531170    B+       0          0           0   \n",
       "1            0      0       13  0.918357    A+       1          1           5   \n",
       "2            1      0        4  0.864791    A+       1          4           4   \n",
       "3            0      0        2  0.928847    A+       1          0           3   \n",
       "4           10      0       15  0.944688    A+       1         20           9   \n",
       "..         ...    ...      ...       ...   ...     ...        ...         ...   \n",
       "179          2      0        3  0.917763    A+       1          2           3   \n",
       "180         10      0        2  0.913733    A+       1         18           2   \n",
       "181          0      0        0  0.639748    A-       0          0           0   \n",
       "182          0      0        0  0.778504     A       0          0           0   \n",
       "183          0      0        0  0.724592     A       0          0           0   \n",
       "\n",
       "    Seniority Division NewDivision LetterGrade  \n",
       "0           U      MCE         MCE           B  \n",
       "1           U      CMS       Other           A  \n",
       "2           U      CMS       Other           A  \n",
       "3           U      CMS       Other           A  \n",
       "4           U      MCE         MCE           A  \n",
       "..        ...      ...         ...         ...  \n",
       "179         U      CMS       Other           A  \n",
       "180         G     MedE       Other           A  \n",
       "181         U      CMS       Other           A  \n",
       "182         G     MedE       Other           A  \n",
       "183         U       EE          EE           A  \n",
       "\n",
       "[184 rows x 20 columns]"
      ]
     },
     "execution_count": 29,
     "metadata": {},
     "output_type": "execute_result"
    }
   ],
   "source": [
    "df_student"
   ]
  },
  {
   "cell_type": "markdown",
   "metadata": {},
   "source": [
    "We will now examine some plots based on the data that Piazza collects, starting with `DaysOnline`. We first compare the `DaysOnline` for undergrads vs graduate students:"
   ]
  },
  {
   "cell_type": "code",
   "execution_count": 40,
   "metadata": {},
   "outputs": [
    {
     "data": {
      "image/png": "[encoded data removed]",
      "text/plain": [
       "<Figure size 432x288 with 2 Axes>"
      ]
     },
     "metadata": {
      "needs_background": "light"
     },
     "output_type": "display_data"
    }
   ],
   "source": [
    "Undergrad = ['U2', 'U3', 'U4']\n",
    "Undergrad_df = df.loc[df['Class'].isin(Undergrad)]\n",
    "\n",
    "Grad = ['G1', 'G2', 'G5']\n",
    "Grad_df = df.loc[df['Class'].isin(Grad)]\n",
    "\n",
    "fig, axs = plt.subplots(1, 2)\n",
    "\n",
    "axs[0].boxplot(Undergrad_df['DaysOnline'])\n",
    "axs[0].set_title('Undergrad DaysOnline')\n",
    "bottom, top = axs[0].get_ylim()\n",
    "\n",
    "axs[1].boxplot(np.array(Grad_df['DaysOnline']))\n",
    "axs[1].set_title('Grad DaysOnline')\n",
    "axs[1].set_ylim(bottom, top)\n",
    "\n",
    "plt.show()"
   ]
  },
  {
   "cell_type": "markdown",
   "metadata": {},
   "source": [
    "In general, the distributions appear similar. There are more undergraduate outliers who spent more `DaysOnline` compared to graduate students.\n",
    "\n",
    "We now compare `DaysOnline` across classes, omitting `U4`, `G2`, and `G5` due to the small sample size for those classes:"
   ]
  },
  {
   "cell_type": "code",
   "execution_count": 41,
   "metadata": {},
   "outputs": [
    {
     "data": {
      "image/png": "[encoded data removed]",
      "text/plain": [
       "<Figure size 432x288 with 3 Axes>"
      ]
     },
     "metadata": {
      "needs_background": "light"
     },
     "output_type": "display_data"
    }
   ],
   "source": [
    "fig, axs = plt.subplots(1, 3)\n",
    "\n",
    "axs[0].boxplot(df.loc[df['Class'] == 'U2']['DaysOnline'])\n",
    "axs[0].set_title('U2 DaysOnline')\n",
    "bottom, top = axs[0].get_ylim()\n",
    "\n",
    "axs[1].boxplot(np.array(df.loc[df['Class'] == 'U3']['DaysOnline']))\n",
    "axs[1].set_title('U3 DaysOnline')\n",
    "axs[1].set_ylim(bottom, top)\n",
    "\n",
    "axs[2].boxplot(np.array(df.loc[df['Class'] == 'G1']['DaysOnline']))\n",
    "axs[2].set_title('G1 DaysOnline')\n",
    "axs[2].set_ylim(bottom, top)\n",
    "\n",
    "plt.show()"
   ]
  },
  {
   "cell_type": "markdown",
   "metadata": {},
   "source": [
    "Again, there does not appear to be a significant difference across classes. \n",
    "\n",
    "Let's examine the same plots across options (divisions), excluding GPS as that division only had one student:"
   ]
  },
  {
   "cell_type": "code",
   "execution_count": 42,
   "metadata": {},
   "outputs": [
    {
     "data": {
      "image/png": "[encoded data removed]",
      "text/plain": [
       "<Figure size 432x288 with 10 Axes>"
      ]
     },
     "metadata": {
      "needs_background": "light"
     },
     "output_type": "display_data"
    }
   ],
   "source": [
    "fig, axs = plt.subplots(2, 5)\n",
    "set1 = ['MedE', 'EE', 'BBE', 'CCE', 'MCE']\n",
    "set2 = ['Hum', 'MCE', 'APMS', 'PMA', 'CMS']\n",
    "\n",
    "for i in range(len(set1)):\n",
    "    axs[0, i].boxplot(np.array(df_student.loc[df_student['Division'] == set1[i]]['DaysOnline']))\n",
    "    axs[0, i].set_title(set1[i])\n",
    "    axs[0, i].set_ylim(0, 275)\n",
    "\n",
    "for j in range(len(set2)):\n",
    "    axs[1, j].boxplot(np.array(df_student.loc[df_student['Division'] == set2[j]]['DaysOnline']))\n",
    "    axs[1, j].set_title(set2[j])\n",
    "    axs[1, j].set_ylim(0, 275)\n",
    "\n",
    "plt.show()"
   ]
  },
  {
   "cell_type": "markdown",
   "metadata": {},
   "source": [
    "We notice that students in the CMS department appear to have spent more `DaysOnline` compared to other divisions. \n",
    "\n",
    "Finally, let's examine `DaysOnline` for students with different grades, omitting the `D` grade as only one student achieved that grade:"
   ]
  },
  {
   "cell_type": "code",
   "execution_count": 45,
   "metadata": {},
   "outputs": [
    {
     "data": {
      "image/png": "[encoded data removed]",
      "text/plain": [
       "<Figure size 432x288 with 3 Axes>"
      ]
     },
     "metadata": {
      "needs_background": "light"
     },
     "output_type": "display_data"
    }
   ],
   "source": [
    "set3 = ['A', 'B', 'C']\n",
    "\n",
    "fig, axs = plt.subplots(1, 3)\n",
    "for k in range(len(set3)):\n",
    "    axs[k].boxplot(np.array(df_student.loc[df_student['Letter Grade'] == set3[k]]['DaysOnline']))\n",
    "    axs[k].set_title(set3[k] + ' DaysOnline')    \n",
    "    axs[k].set_ylim(0, 210)\n",
    "\n",
    "plt.savefig('16. Boxplot of DaysOnline for different grades.png')\n",
    "plt.show()"
   ]
  },
  {
   "cell_type": "markdown",
   "metadata": {},
   "source": [
    "We notice that in general, students who spent more `DaysOnline` tended to have higher grades. However, the spread of `DaysOnline` is also higher for higher grades, as more students scored `A`s compared to `B`s or `C`s. "
   ]
  },
  {
   "cell_type": "markdown",
   "metadata": {},
   "source": [
    "After `DaysOnline`, we will examine similar plots for `Views`, starting with a comparison between undergrads and grads:"
   ]
  },
  {
   "cell_type": "code",
   "execution_count": 46,
   "metadata": {},
   "outputs": [
    {
     "data": {
      "image/png": "[encoded data removed]",
      "text/plain": [
       "<Figure size 432x288 with 2 Axes>"
      ]
     },
     "metadata": {
      "needs_background": "light"
     },
     "output_type": "display_data"
    }
   ],
   "source": [
    "fig, axs = plt.subplots(1, 2)\n",
    "\n",
    "axs[0].boxplot(Undergrad_df['Views'])\n",
    "axs[0].set_title('Undergrad Views')\n",
    "axs[0].set_ylim(0, 250)\n",
    "\n",
    "axs[1].boxplot(np.array(Grad_df['Views']))\n",
    "axs[1].set_title('Grad Views')\n",
    "axs[1].set_ylim(0, 250)\n",
    "\n",
    "plt.show()"
   ]
  },
  {
   "cell_type": "markdown",
   "metadata": {},
   "source": [
    "Again, there is little difference. Next, we compare between classes:"
   ]
  },
  {
   "cell_type": "code",
   "execution_count": 49,
   "metadata": {},
   "outputs": [
    {
     "data": {
      "image/png": "[encoded data removed]",
      "text/plain": [
       "<Figure size 432x288 with 3 Axes>"
      ]
     },
     "metadata": {
      "needs_background": "light"
     },
     "output_type": "display_data"
    }
   ],
   "source": [
    "fig, axs = plt.subplots(1, 3)\n",
    "\n",
    "axs[0].boxplot(df.loc[df['Class'] == 'U2']['Views'])\n",
    "axs[0].set_title('U2 Views')\n",
    "axs[0].set_ylim(0, 225)\n",
    "\n",
    "axs[1].boxplot(np.array(df.loc[df['Class'] == 'U3']['Views']))\n",
    "axs[1].set_title('U3 Views')\n",
    "axs[1].set_ylim(0, 225)\n",
    "\n",
    "axs[2].boxplot(np.array(df.loc[df['Class'] == 'G1']['Views']))\n",
    "axs[2].set_title('G1 Views')\n",
    "axs[2].set_ylim(0, 225)\n",
    "\n",
    "plt.show()"
   ]
  },
  {
   "cell_type": "markdown",
   "metadata": {},
   "source": [
    "Seeing no obvious differences, we will then look at `Views` across divisions:"
   ]
  },
  {
   "cell_type": "code",
   "execution_count": 51,
   "metadata": {},
   "outputs": [
    {
     "data": {
      "image/png": "[encoded data removed]",
      "text/plain": [
       "<Figure size 432x288 with 10 Axes>"
      ]
     },
     "metadata": {
      "needs_background": "light"
     },
     "output_type": "display_data"
    }
   ],
   "source": [
    "fig, axs = plt.subplots(2, 5)\n",
    "\n",
    "for i in range(len(set1)):\n",
    "    axs[0, i].boxplot(np.array(df_student.loc[df_student['Division'] == set1[i]]['Views']))\n",
    "    axs[0, i].set_title(set1[i] + ' Views')\n",
    "    axs[0, i].set_ylim(0, 225)\n",
    "\n",
    "for j in range(len(set2)):\n",
    "    axs[1, j].boxplot(np.array(df_student.loc[df_student['Division'] == set2[j]]['Views']))\n",
    "    axs[1, j].set_title(set2[j] + ' Views')\n",
    "    axs[1, j].set_ylim(0, 225)\n",
    "\n",
    "plt.show()"
   ]
  },
  {
   "cell_type": "markdown",
   "metadata": {},
   "source": [
    "As with `DaysOnline`, `Views` for CMS seem to be on the higher side. However, the difference is less severe and overall the divisions appear similar in terms of `Views`.\n",
    "\n",
    "Finally, we compare across grades:"
   ]
  },
  {
   "cell_type": "code",
   "execution_count": 53,
   "metadata": {},
   "outputs": [
    {
     "data": {
      "image/png": "[encoded data removed]",
      "text/plain": [
       "<Figure size 432x288 with 3 Axes>"
      ]
     },
     "metadata": {
      "needs_background": "light"
     },
     "output_type": "display_data"
    }
   ],
   "source": [
    "fig, axs = plt.subplots(1, 3)\n",
    "for k in range(len(set3)):\n",
    "    axs[k].boxplot(np.array(df_student.loc[df_student['Grade'] == set3[k]]['Views']))\n",
    "    axs[k].set_title(set3[k] + ' Views')    \n",
    "    axs[k].set_ylim(0, 225)\n",
    "    \n",
    "plt.show()"
   ]
  },
  {
   "cell_type": "markdown",
   "metadata": {},
   "source": [
    "There were both `A` and `C` students with a high number of `Views`, and overall the spreads for each grade are similar. There does not appear to be a correlation between `Views` and the students' grades."
   ]
  },
  {
   "cell_type": "markdown",
   "metadata": {},
   "source": [
    "We will now make similar comparisons for `N-Score`, starting with undergrad vs grad."
   ]
  },
  {
   "cell_type": "code",
   "execution_count": 54,
   "metadata": {},
   "outputs": [
    {
     "data": {
      "image/png": "[encoded data removed]",
      "text/plain": [
       "<Figure size 432x288 with 2 Axes>"
      ]
     },
     "metadata": {
      "needs_background": "light"
     },
     "output_type": "display_data"
    }
   ],
   "source": [
    "fig, axs = plt.subplots(1, 2)\n",
    "\n",
    "axs[0].boxplot(Undergrad_df['N-Score'])\n",
    "axs[0].set_title('Undergrad N-Score')\n",
    "axs[0].set_ylim(0, 1)\n",
    "\n",
    "axs[1].boxplot(np.array(Grad_df['N-Score']))\n",
    "axs[1].set_title('Grad N-Score')\n",
    "axs[1].set_ylim(0, 1)\n",
    "\n",
    "plt.show()"
   ]
  },
  {
   "cell_type": "markdown",
   "metadata": {},
   "source": [
    "We do not notice any significant differences. A few more low outliers exist for undergrads, but the $25-75$th percentiles and the overall spreads of `N-Score` are similar for both undergrads and grads.\n",
    "\n",
    "We will now compare `N-Score` across classes:"
   ]
  },
  {
   "cell_type": "code",
   "execution_count": 55,
   "metadata": {},
   "outputs": [
    {
     "data": {
      "image/png": "[encoded data removed]",
      "text/plain": [
       "<Figure size 432x288 with 3 Axes>"
      ]
     },
     "metadata": {
      "needs_background": "light"
     },
     "output_type": "display_data"
    }
   ],
   "source": [
    "fig, axs = plt.subplots(1, 3)\n",
    "\n",
    "axs[0].boxplot(df.loc[df['Class'] == 'U2']['N-Score'])\n",
    "axs[0].set_title('U2 N-Score')\n",
    "axs[0].set_ylim(0, 1)\n",
    "\n",
    "axs[1].boxplot(np.array(df.loc[df['Class'] == 'U3']['N-Score']))\n",
    "axs[1].set_title('U3 N-Score')\n",
    "axs[1].set_ylim(0, 1)\n",
    "\n",
    "axs[2].boxplot(np.array(df.loc[df['Class'] == 'G1']['N-Score']))\n",
    "axs[2].set_title('G1 N-Score')\n",
    "axs[2].set_ylim(0, 1)\n",
    "\n",
    "plt.show()"
   ]
  },
  {
   "cell_type": "markdown",
   "metadata": {},
   "source": [
    "The `N-Score`s for `U3` appear to be more concentrated than those for `U2` and `G1`, though the overall spread is similar across all three classes. The mean `N-Score` for `U3` is slightly higher than those for `U2` and `G1`, but the middle $50\\%$ of `N-Scores` overlap for all three classes.\n",
    "\n",
    "Finally, we will look at `N-Score`s across divisions:"
   ]
  },
  {
   "cell_type": "code",
   "execution_count": 57,
   "metadata": {},
   "outputs": [
    {
     "data": {
      "image/png": "[encoded data removed]",
      "text/plain": [
       "<Figure size 432x288 with 10 Axes>"
      ]
     },
     "metadata": {
      "needs_background": "light"
     },
     "output_type": "display_data"
    }
   ],
   "source": [
    "fig, axs = plt.subplots(2, 5)\n",
    "\n",
    "for i in range(len(set1)):\n",
    "    axs[0, i].boxplot(np.array(df_student.loc[df_student['Division'] == set1[i]]['N-Score']))\n",
    "    axs[0, i].set_title(set1[i])\n",
    "    axs[0, i].set_ylim(0, 1)\n",
    "\n",
    "for j in range(len(set2)):\n",
    "    axs[1, j].boxplot(np.array(df_student.loc[df_student['Division'] == set2[j]]['N-Score']))\n",
    "    axs[1, j].set_title(set2[j])\n",
    "    axs[1, j].set_ylim(0, 1)\n",
    "\n",
    "plt.show()"
   ]
  },
  {
   "cell_type": "markdown",
   "metadata": {},
   "source": [
    "No division stands out as extremely different from the others. The highest mean `N-Score` comes from the CMS division, which is not surprising considering that ACM students belong to the CMS division and are perhaps more suited to perform well in an ACM course. "
   ]
  },
  {
   "cell_type": "markdown",
   "metadata": {},
   "source": [
    "Overall, after examining the `DaysOnline`, `Views`, and `N-Score`s, there do not appear to be many differences across seniority, classes, divisions, and grades. The most notable observations came from students in CMS having higher `DaysOnline` and higher `N-Scores` compared to other divisions, and `DaysOnline` being somewhat positively correlated with letter grade. However, the majority of our initial data exploration in this area indicates that factors such as `DaysOnline`, `Views`, seniority, class, and division do not affect a student's overall performance in the course. "
   ]
  },
  {
   "cell_type": "markdown",
   "metadata": {},
   "source": [
    "### Attributions\n",
    "\n",
    "Notebook created by Amanda Li. \n",
    "\n",
    "Modified from `visualizations_p_nodes_scatter.py` by Siqiao Mu."
   ]
  }
 ],
 "metadata": {
  "kernelspec": {
   "display_name": "Python 3",
   "language": "python",
   "name": "python3"
  },
  "language_info": {
   "codemirror_mode": {
    "name": "ipython",
    "version": 3
   },
   "file_extension": ".py",
   "mimetype": "text/x-python",
   "name": "python",
   "nbconvert_exporter": "python",
   "pygments_lexer": "ipython3",
   "version": "3.8.5"
  }
 },
 "nbformat": 4,
 "nbformat_minor": 4
}
